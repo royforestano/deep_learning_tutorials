{
 "cells": [
  {
   "cell_type": "markdown",
   "id": "a9ec4b9c",
   "metadata": {},
   "source": [
    "# Natural Language Processing (NLP)\n",
    "\n",
    "Author: Roy T. Forestano\n",
    "\n",
    "Began: 2025 September 19\n",
    "\n",
    "Notes from the book Deep Learning with Python by Francois Chollet. Code suggested but modified considerably and written in PyTorch as opposed to Keras, as in the text."
   ]
  },
  {
   "cell_type": "markdown",
   "id": "1b04032b",
   "metadata": {},
   "source": [
    "## Section 1: Deep Learning for Text\n",
    "\n",
    "Chapter 11: Deep Learning for Text from the book Deep Learning with Python by Francois Chollet.\n",
    "\n",
    "- Preprocessing test data for ML applications\n",
    "- Bag-of-words approaches and sequence-modeling approaches for text processing\n",
    "- The Transformer Architecture\n",
    "- Sequence-to-Sequence learning"
   ]
  },
  {
   "cell_type": "markdown",
   "id": "b769a1c8",
   "metadata": {},
   "source": [
    "### 11.1 Natural Language Processing: The bird's eye view\n",
    "\n",
    "- Language for computers is designed with rules first then usage\n",
    "    - Highly structured and rigorous\n",
    "    - Precise syntactic rules\n",
    "    - Defined concepts\n",
    "    - Fixed vocabulary\n",
    "- Natural language is used first, shaped by evolution, then rules are formalized\n",
    "    - Messy, ambiguous, chatic, sprawiling\n",
    "    - Constantly in flux\n",
    "\n",
    "- History\n",
    "    - 1960s: Applied Linguistics: ELIZA with rules for pattern matching\n",
    "    - 1980s: more data, Decision Trees to automate if/then/else rules of previous systems\n",
    "    - 1980s: statistical approahces like logitic regression, learned parametric models\n",
    "\n",
    "\n",
    "- Modern Natural Language Processing\n",
    "    - use ML and large datasets to give computers the ability to take a piece of language as input and return something meanignful, not to understand language like in the past\n",
    "    - RNN\n",
    "    - LSTM\n",
    "    - Transformer\n",
    "    - Reinforcement Learning\n"
   ]
  },
  {
   "cell_type": "markdown",
   "id": "f27bc54d",
   "metadata": {},
   "source": [
    "### 11.2 Preparing Text Data\n",
    "\n",
    "***Vectorizing:*** process of transforming text into numeric tensors. \n",
    "- Standardize: make all lowercase, remove punctuation, use stemming to make all conjugated verbs the same.\n",
    "- Tokenization: split the text into units (tokens), such as characters, words, or groups of words\n",
    "- Indexing: index all tokens present in the data\n",
    "- Vectorize: turn each token into a numerical vector through one-hot encoding or embedding techniques\n",
    "\n",
    "11.2.1 Standardization\n",
    "\n",
    "- Lowercase\n",
    "- Remove punctutation, if needed, make as a separate token\n",
    "- Convert special characters to a standard form, e.g. accent marks\n",
    "- Stemmming: convert variations of a verb into a single representation\n",
    "\n",
    "11.2.2 Text splitting (tokenization)\n",
    "\n",
    "- Break up text into units to be vectorized (tokens)\n",
    "    - Word-level tokenization: tokens are space separated (or puncutation separated) substrings. Also, one can split words into subwords, e.g. staring to star+ing or called to call_ed\n",
    "    - N-gram tokenization: tokens are groups of N consecutive words\n",
    "    - Character-level tokenization: tokerns are characters (rarely used, only in specialized contexts, such as textgeneration or speech recognition)\n",
    "\n",
    "***Sequence Models***: care about word order\n",
    "    - Word level tokenization\n",
    "***Bag-of-words***: treat input words as a set\n",
    "    - N-gram tokenization (preserves local word order)\n",
    "\n",
    "Note: Deep learning sequence moels such as 1D convnets, recurrent NN, and Transformers are capable of learning representations for groups of words without being explicitly told about the existence of such groups by looking at continuous word or character sequences.\n",
    "\n",
    "11.2.3 Vocabulary Indexing \n",
    "\n",
    "- Tokens must then be converted to numerical representations\n",
    "- Start by indexing the tokens you have\n",
    "- Common to limit the vocabulary to the top 20k-30k most common words\n",
    "\n",
    "- If words are not in vocabulary training data, to avoid KeyError, make an out of vocabulary (OOV) index, e.g. vocabulary.get(token,1) i.e. get the token if it exists otherwise get 1\n",
    "- Typically, also need a mask token at index 0 to make word sequences the same length, i.e. pad all sequences to the longest length\n",
    "\n"
   ]
  },
  {
   "cell_type": "code",
   "execution_count": 18,
   "id": "45636781",
   "metadata": {},
   "outputs": [
    {
     "data": {
      "text/plain": [
       "'\\nIf using google colab, uncomment below lines\\n'"
      ]
     },
     "execution_count": 18,
     "metadata": {},
     "output_type": "execute_result"
    }
   ],
   "source": [
    "'''\n",
    "If using google colab, uncomment below lines\n",
    "'''\n",
    "\n",
    "# gpu_info = !nvidia-smi\n",
    "# gpu_info = '\\n'.join(gpu_info)\n",
    "# if gpu_info.find('failed') >= 0:\n",
    "#   print('Not connected to a GPU')\n",
    "# else:\n",
    "#   print(gpu_info)\n",
    "\n",
    "# !pip install torch\n",
    "# !pip install numpy\n",
    "\n",
    "# from google.colab import drive\n",
    "# drive.mount('/content/drive')\n",
    "\n",
    "# import os\n",
    "# path = '/content/drive/MyDrive/research/lanl/code/'\n",
    "# directory = path\n",
    "# os.chdir(directory)\n",
    "# print(os.getcwd())"
   ]
  },
  {
   "cell_type": "code",
   "execution_count": null,
   "id": "92e3ce71",
   "metadata": {},
   "outputs": [],
   "source": [
    "vocabulary = {} \n",
    "for text in dataset:\n",
    "    text = standardize(text)\n",
    "    tokens = tokenize(text)\n",
    "    for token in tokens:\n",
    "        if token not in vocabulary:\n",
    "            vocabulary[token] = len(vocabulary) # add the token in dictionary with index at end\n",
    "\n",
    "# Can be converted to a vector encoding: e.g. One-Hot encoding\n",
    "def one_hot_encode_token(token):\n",
    "    vector = np.zeros((len(vocabulary),))\n",
    "    token_index = vocabulary[token]\n",
    "    vector[token_index] = 1\n",
    "    return vector"
   ]
  },
  {
   "cell_type": "code",
   "execution_count": 1,
   "id": "b7770d9a",
   "metadata": {},
   "outputs": [
    {
     "name": "stdout",
     "output_type": "stream",
     "text": [
      "[2, 3, 5, 7, 1, 5, 6]\n",
      "i write rewrite and [UNK] rewrite again\n"
     ]
    }
   ],
   "source": [
    "# Manual\n",
    "import string\n",
    "\n",
    "class Vectorizer:\n",
    "    def standardize(self,text):\n",
    "        text = text.lower()\n",
    "         # remove punctuation and rejoin characters\n",
    "        return \"\".join(char for char in text if char not in string.punctuation)\n",
    "    \n",
    "    def tokenize(self, text):\n",
    "       text = self.standardize(text)\n",
    "       return text.split()\n",
    "    \n",
    "    def make_vocabulary(self, dataset):\n",
    "        self.vocabulary = {\"\":0, \"[UNK]\": 1}\n",
    "        for text in dataset:\n",
    "          text = self.standardize(text)\n",
    "          tokens = self.tokenize(text)\n",
    "          for token in tokens:\n",
    "             if token not in self.vocabulary:\n",
    "                self.vocabulary[token] = len(self.vocabulary)\n",
    "        self.inverse_vocabulary = dict((value, key) for key, value in self.vocabulary.items())\n",
    "    \n",
    "\n",
    "    def encode(self,text):\n",
    "       text = self.standardize(text)\n",
    "       tokens = self.tokenize(text)\n",
    "       return [self.vocabulary.get(token,1) for token in tokens]\n",
    "    \n",
    "    def decode(self, int_sequence):\n",
    "       return \" \".join(self.inverse_vocabulary.get(i,\"[UNK]\") for i in int_sequence)"
   ]
  },
  {
   "cell_type": "code",
   "execution_count": null,
   "id": "2612d29c",
   "metadata": {},
   "outputs": [],
   "source": [
    "# Example\n",
    "vectorizer = Vectorizer()\n",
    "dataset = [\"I write, erase, rewrite\",\n",
    "           \"Erase again, and then\",\n",
    "           \"A poppy blooms.\"]\n",
    "vectorizer.make_vocabulary(dataset)\n",
    "\n",
    "test_sentence = \"I write, rewrite, and still rewrite again\"\n",
    "encoded_sentence = vectorizer.encode(test_sentence)\n",
    "print(encoded_sentence)\n",
    "decoded_sentence = vectorizer.decode(encoded_sentence)\n",
    "print(decoded_sentence)"
   ]
  },
  {
   "cell_type": "code",
   "execution_count": null,
   "id": "fdcbce71",
   "metadata": {},
   "outputs": [
    {
     "ename": "",
     "evalue": "",
     "output_type": "error",
     "traceback": [
      "\u001b[1;31mThe Kernel crashed while executing code in the current cell or a previous cell. \n",
      "\u001b[1;31mPlease review the code in the cell(s) to identify a possible cause of the failure. \n",
      "\u001b[1;31mClick <a href='https://aka.ms/vscodeJupyterKernelCrash'>here</a> for more info. \n",
      "\u001b[1;31mView Jupyter <a href='command:jupyter.viewOutput'>log</a> for further details."
     ]
    }
   ],
   "source": [
    "'''\n",
    "Kernel crashed with tensorflow\n",
    "Even when trying to reconfigure with compatible packages, more errors arose\n",
    "'''\n",
    "\n",
    "# Keras\n",
    "# import tensorflow\n",
    "# print(tensorflow.__version__)\n",
    "# from tensorflow.keras.layers import TextVectorization\n",
    "# from tensorflow import keras\n",
    "# text_vectorization = TextVectorization(max_tokens=None,\n",
    "#                                         standardize='lower_and_strip_punctuation',\n",
    "#                                         split='whitespace',\n",
    "#                                         ngrams=None,\n",
    "#                                         output_mode='int',\n",
    "#                                         output_sequence_length=None,\n",
    "#                                         pad_to_max_tokens=False,\n",
    "#                                         vocabulary=None,\n",
    "#                                         idf_weights=None,\n",
    "#                                         sparse=False,\n",
    "#                                         ragged=False,\n",
    "#                                         encoding='utf-8',\n",
    "#                                         name=None)\n",
    "\n",
    "# # Build custom standardize and tokenize (split) functions\n",
    "# import re\n",
    "# import string\n",
    "# import tensorflow as tf\n",
    "\n",
    "# def custom_standardization_fn(string_tensor):\n",
    "#     lowercase_string = tf.strings.lower(string_tensor)\n",
    "#     return tf.strings.regex_replace(lowercase_string, f\"[{re.escape(string.punctuation)}]\", \"\")\n",
    "\n",
    "# def custom_split_fn(string_tensor):\n",
    "#     return tf.strings.split(string_tensor)\n",
    "# \n",
    "# \n",
    "# text_vectorization = TextVectorization( output_mode = 'int',\n",
    "#                                         standardize = custom_standardization_fn,\n",
    "#                                         split = custom_split_fn)\n",
    "\n",
    "# dataset = [\"I write, erase, rewrite\",\n",
    "#            \"Erase again, and then\",\n",
    "#            \"A poppy blooms.\"]\n",
    "# text_vectorization.adapt(dataset)\n",
    "# print(text_vectorization.get_vocabulary())\n",
    "\n",
    "# vocabulary = text_vectorization.get_vocabulary()\n",
    "# test_sentence = \"I write, rewrite, and still rewrite again\"\n",
    "# encoded_sentence = text_vectorization(test_sentence)\n",
    "# print(encoded_sentence)\n",
    "# inverse_vocab = dict(enumerate(vocabulary))\n",
    "# decoded_sentence = \" \".join(inverse_vocab[int(i)] for i in encoded_sentence)\n",
    "# print(decoded_sentence)\n",
    "\n",
    "# # Using the TextVectorization layer in a tf.data pipeline or as part of a model\n",
    "\n",
    "# # Option 1: Pipeline - enables you to do asynchronous processing of your data on the CPU. While the GPU runs the model,\n",
    "# # on one batch of vectorized data, the CPU stays busy by vectorizing the next batch of strings\n",
    "# # Go with this if running on GPU or TPU\n",
    "\n",
    "# int_sequence_dataset = string_dataset.map(text_vectorization,num_parallel_calls  = 4)\n",
    "\n",
    "# # Option 2: Part of the model - vectorization happens synchronously with the model\n",
    "# text_input = keras.Input(shape=(), dtype='string')\n",
    "# vectorized_text = text_vectorization(text_input)\n",
    "# embedded_input = keras.layers.Embedding(len(vocabulary),6)(vectorized_text) # Embed words in sentence as vectors themselves\n",
    "# # output =\n",
    "# model = keras.Model(text_input,output)"
   ]
  },
  {
   "cell_type": "markdown",
   "id": "162c008d",
   "metadata": {},
   "source": [
    "Word Embeddings: Encoding Lexical Semantics: https://docs.pytorch.org/tutorials/beginner/nlp/word_embeddings_tutorial.html\n",
    "\n",
    "Embedding: https://docs.pytorch.org/docs/stable/generated/torch.nn.Embedding.html"
   ]
  },
  {
   "cell_type": "code",
   "execution_count": 8,
   "id": "2009e23d",
   "metadata": {},
   "outputs": [
    {
     "name": "stdout",
     "output_type": "stream",
     "text": [
      "2\n",
      "1\n"
     ]
    }
   ],
   "source": [
    "# Pytorch - kind of\n",
    "import torch\n",
    "import torch.nn as nn\n",
    "import torch.nn.functional as F\n",
    "import torch.optim as optim\n",
    "# from torchtext.vocab import vocab # torchtext is being deprecated\n",
    "\n",
    "from collections import Counter, OrderedDict\n",
    "\n",
    "torch.manual_seed(1)\n",
    "\n",
    "counter = Counter([\"a\", \"a\", \"b\", \"b\", \"b\"])\n",
    "sorted_by_freq_tuples = sorted(counter.items(), key=lambda x: x[1], reverse=True)\n",
    "ordered_dict = OrderedDict(sorted_by_freq_tuples)\n",
    "# v1 = vocab(ordered_dict)\n",
    "print(ordered_dict['a']) #prints 1, old is v1\n",
    "# print(ordered_dict['out of vocab']) #raise RuntimeError since default index is not set, old is v1\n",
    "tokens = ['e', 'd', 'c', 'b', 'a']\n",
    "#adding <unk> token and default index\n",
    "unk_token = '<unk>'\n",
    "default_index = -1\n",
    "od2 = OrderedDict([('',0),(unk_token,1)]+[(token, 1) for token in tokens])\n",
    "# v2 = vocab(OrderedDict([(token, 1) for token in tokens]), specials=[unk_token])\n",
    "# v2.set_default_index(default_index)\n",
    "print(od2['<unk>']) #prints 0\n",
    "# print(od2['out of vocab']) #prints -1\n",
    "#make default index same as index of unk_token\n",
    "# v2.set_default_index(v2[unk_token])\n",
    "# v2['out of vocab'] is v2[unk_token] #prints True\n",
    "\n",
    "# from torchtext.vocab import vocab\n",
    "word_to_ix = {\"hello\": 0, \"world\": 1}\n",
    "embeds = nn.Embedding(len(word_to_ix), 5)  # 2 words in vocab, 5 dimensional embeddings\n",
    "lookup_tensor = torch.tensor([word_to_ix[\"hello\"]], dtype=torch.long)\n",
    "hello_embed = embeds(lookup_tensor)\n",
    "print(lookup_tensor)\n",
    "print(hello_embed)\n",
    "lookup_tensor2 = torch.tensor([word_to_ix[\"world\"]], dtype=torch.long)\n",
    "world_embed = embeds(lookup_tensor2)\n",
    "print(world_embed)\n",
    "hello_embed = embeds(lookup_tensor)\n",
    "print(hello_embed)"
   ]
  },
  {
   "cell_type": "markdown",
   "id": "4da7629a",
   "metadata": {},
   "source": [
    "### 11.3 Two approaches for representing groups of words: Sets and sequences\n",
    "\n",
    " - How ML models should represent individual words is known since they are categorical features\n",
    "    - can be encoded as dimensions in a feature space\n",
    "    - or as category (word) vectors\n",
    " - Difficulty in how to encode word order, or the way words are woven into sentences\n",
    "\n",
    " Some options\n",
    "\n",
    " - Bag-of-words: discard order and treat text as an unordered set of words\n",
    " - RNN: like steps in a timeseries, process words in the order in which they appear one at a time\n",
    " - Hybrid-approach (Transformer): order-agnostic but uses word-position information in the representations it processes which enables it to simultaneously look at different parts of a sentence (unlike RNNs) while still being order-aware\n",
    "\n",
    " Note: RNNs and Transformers are sequence models since they take into account word order"
   ]
  },
  {
   "cell_type": "code",
   "execution_count": null,
   "id": "c6a99001",
   "metadata": {},
   "outputs": [],
   "source": [
    "'''\n",
    "Book shows how to do this manually again from the Stanford page of Andrew Maas\n",
    "\n",
    "Start in terminal in the directory of interest and download the data\n",
    "'''\n",
    "\n",
    "# !curl  -O https://ai.stanford.edu/~amaas/data/sentiment/ac1Imdb_v1.tar.gz\n",
    "# !tar -xf ac1Imdb_v1.tar.gz\n",
    "\n",
    "'''\n",
    "The file will contain train (25k) and test (25k) folders with positive and negative reviews\n",
    "delete train/unsup directory\n",
    "'''\n",
    "\n",
    "# !rm -r ac1Imdb/train/unsup\n",
    "\n",
    "'''\n",
    "View the content of a few of these files to inspect what your data looks like beforfe modelling it. \n",
    "It will help in understanding what the model is doing.\n",
    "'''\n",
    "\n",
    "#!cat ac1Imdb/train/pos/4077_10.txt\n",
    "\n",
    "'''\n",
    "Prepare a validation set of 20% of training text files in a new directory, namely ac1Imdb/val\n",
    "'''\n",
    "\n",
    "# import os, pathlib, shutil, random\n",
    "\n",
    "# base_dir = pathlib.Path(\"ac1Imdb\")\n",
    "# val_dir = base_dir/\"val\"\n",
    "# train_dir = base_dir / \"train\"\n",
    "\n",
    "# for category in (\"neg\",\"pos\"):\n",
    "#     os.makedirs(val_dir/category)\n",
    "#     files = os.listdir(train_dir/category)\n",
    "#     random.Random(1337).shuffle(files)\n",
    "#     num_val_samples = int(0.2*len(files))\n",
    "#     val_files = files[-num_val_samples:]\n",
    "#     for fname in val_files:\n",
    "#         shutil.move(train_dir/category/fname, val_dir/category/fname)\n",
    "\n",
    "'''\n",
    "Create a batched Dataset object with labels from a directory\n",
    "'''\n",
    "\n",
    "# from tensorflow import keras\n",
    "# batch_size = 32\n",
    "# train_ds = keras.utils.text_dataset_from_directory(\"ac1Imdb/train\",\n",
    "#                                                    batch_size = batch_size)\n",
    "# test_ds = keras.utils.text_dataset_from_directory(\"ac1Imdb/test\",\n",
    "#                                                   batch_size = batch_size)\n",
    "\n",
    "'''\n",
    "Inputs are TensorFlow tf.string tensors, targets are int32 tensors with either a 0 or 1 (binary classification)\n",
    "'''\n",
    "\n",
    "# for inputs, targets in train_ds:\n",
    "#     print(\"inputs.shape:\", inputs.shape)\n",
    "#     print(\"inputs.dtype:\", inputs.dtype)\n",
    "#     print(\"targets.shape:\", targets.shape)\n",
    "#     print(\"targets.dtype:\", targets.dtype)\n",
    "#     print(\"inputs[0]:\",inputs[0])\n",
    "#     print(\"targets[0]:\",targets[0])"
   ]
  },
  {
   "cell_type": "code",
   "execution_count": null,
   "id": "fddde024",
   "metadata": {},
   "outputs": [
    {
     "name": "stdout",
     "output_type": "stream",
     "text": [
      "0.18.0\n",
      "2.3.0\n"
     ]
    }
   ],
   "source": [
    "# Need version 0.18.0\n",
    "# import torchtext\n",
    "# # Need version 2.3.0\n",
    "# import torch\n",
    "# print(torchtext.__version__)\n",
    "# print(torch.__version__)"
   ]
  },
  {
   "cell_type": "markdown",
   "id": "b23e6b83",
   "metadata": {},
   "source": [
    "## Sequence classification learning"
   ]
  },
  {
   "cell_type": "markdown",
   "id": "a4b77e5d",
   "metadata": {},
   "source": [
    "### 11.3.2 Processing words as a set: The bag-of-words approach\n",
    "\n",
    "- Vector with indices of words\n",
    "- Multihot encoding of N-grams\n",
    "- TD-IDF encoding of N-grams"
   ]
  },
  {
   "cell_type": "markdown",
   "id": "a0860338",
   "metadata": {},
   "source": [
    "### Download, Preprocess, Tokenize the data"
   ]
  },
  {
   "cell_type": "code",
   "execution_count": 1,
   "id": "67e78b36",
   "metadata": {},
   "outputs": [
    {
     "name": "stdout",
     "output_type": "stream",
     "text": [
      "Device:  cpu\n",
      "Text: stage adaptations often have a major fault they often come out looking like a film camera was simply placed on the stage such as night mother sidney lumets direction keeps the film alive which is especially difficult since the picture offered him no real challenge still its nice to look at for what it is the chemistry between michael caine and christopher reeve is quite brilliant the dynamics of their relationship are surprising caine is fantastic as always and reeve gets one of his few chances to really actbr br i confess that ive never seen ira levins play but i hear that jay presson allens adaptation is faithful the script is incredibly convoluted and keeps you guessing deathtrap is an enormously entertaining film and is recommended for nearly all fans of stage and screenbr br 74 out of 10\n",
      "Label: 1\n",
      "Tokens: ['stage', 'stage adaptations', 'adaptations', 'adaptations often', 'often', 'often have', 'have', 'have a', 'a', 'a major']\n"
     ]
    }
   ],
   "source": [
    "'''\n",
    "Do it with Hugging Face Datasets / PyTorch and avoid the manuals step\n",
    "\n",
    "Hugging Face Datasets: https://huggingface.co/docs/datasets/en/index\n",
    "'''\n",
    "# # import datasets\n",
    "# from torchtext.datasets import IMDB\n",
    "\n",
    "# train_iter = IMDB(split='train')\n",
    "# train_iter = IMDB(split='test')\n",
    "\n",
    "# def tokenize(label, line):\n",
    "#     return line.split()\n",
    "\n",
    "# tokens = []\n",
    "# for label, line in train_iter:\n",
    "#     tokens += tokenize(label, line)\n",
    "from utils import *\n",
    "# Load IMDB dataset\n",
    "dataset = load_dataset(\"imdb\")\n",
    "\n",
    "# Apply preprocessing to *entire dataset*\n",
    "dataset = dataset.map(preprocess)\n",
    "\n",
    "# Now split into train/validation/test\n",
    "split_dataset = dataset[\"train\"].train_test_split(test_size=0.2, seed=42)\n",
    "train_data = split_dataset[\"train\"]\n",
    "val_data   = split_dataset[\"test\"]\n",
    "test_data  = dataset[\"test\"]\n",
    "\n",
    "# # Split into train/test\n",
    "# index_train = 20000\n",
    "# train_data = dataset[\"train\"].select(range(0, index_train))\n",
    "# val_data   = dataset[\"train\"].select(range(index_train, len(dataset[\"train\"])))\n",
    "# test_data = dataset[\"test\"]\n",
    "\n",
    "# Example: inspect a sample\n",
    "print('Text:',train_data[0]['text'])  # {'text': 'A very, very, very slow-moving, aimless movie...', 'label': 0}\n",
    "print('Label:',train_data[0]['label'])\n",
    "# Tokenization (basic example), N-grams with binary encoding\n",
    "ngram_size = 2\n",
    "tokenize_with_ngrams = partial(tokenize, ngram_size = ngram_size)\n",
    "\n",
    "# Apply tokenization\n",
    "train_tokens = train_data.map(tokenize_with_ngrams, batched=False)\n",
    "val_tokens = val_data.map(tokenize_with_ngrams, batched=False)\n",
    "test_tokens = test_data.map(tokenize_with_ngrams, batched=False)\n",
    "\n",
    "print('Tokens:',train_tokens[0][\"tokens\"][:10])\n"
   ]
  },
  {
   "cell_type": "code",
   "execution_count": 2,
   "id": "86140f9c",
   "metadata": {},
   "outputs": [
    {
     "data": {
      "text/plain": [
       "['search', 'search_batch', 'select', 'select_columns', 'set_format']"
      ]
     },
     "execution_count": 2,
     "metadata": {},
     "output_type": "execute_result"
    }
   ],
   "source": [
    "dir(dataset[\"train\"])[-30:-25]"
   ]
  },
  {
   "cell_type": "code",
   "execution_count": 3,
   "id": "4cf1c5a4",
   "metadata": {},
   "outputs": [
    {
     "data": {
      "text/plain": [
       "dict_keys(['train', 'test', 'unsupervised'])"
      ]
     },
     "execution_count": 3,
     "metadata": {},
     "output_type": "execute_result"
    }
   ],
   "source": [
    "dataset.keys()"
   ]
  },
  {
   "cell_type": "code",
   "execution_count": 4,
   "id": "ebcd4d0f",
   "metadata": {},
   "outputs": [
    {
     "data": {
      "text/plain": [
       "Dataset({\n",
       "    features: ['text', 'label', 'tokens'],\n",
       "    num_rows: 20000\n",
       "})"
      ]
     },
     "execution_count": 4,
     "metadata": {},
     "output_type": "execute_result"
    }
   ],
   "source": [
    "train_tokens"
   ]
  },
  {
   "cell_type": "markdown",
   "id": "397b82c3",
   "metadata": {},
   "source": [
    "### Make vocabulary, vectorize the data (sequence), and create train/test/val dataloaders"
   ]
  },
  {
   "cell_type": "code",
   "execution_count": null,
   "id": "e2b25a87",
   "metadata": {},
   "outputs": [],
   "source": [
    "torch.manual_seed(0)\n",
    "\n",
    "max_vocab_length = 20000\n",
    "vocab = create_vocab(dataset,tokenizer=tokenize_with_ngrams,maximum_words_in_vocab=max_vocab_length)\n",
    "\n",
    "vectorizing_function = VecFuncs(vocab).vectorize_fn_tf_idf\n",
    "collate_with_vocab = partial(collate_fn, vocab = vocab, vect_function=vectorizing_function)\n",
    "\n",
    "batch_size = 32\n",
    "train_loader = DataLoader(train_tokens, \n",
    "                        batch_size=batch_size, \n",
    "                        shuffle=True, \n",
    "                        collate_fn=collate_with_vocab)\n",
    "\n",
    "val_loader = DataLoader(val_tokens, \n",
    "                        batch_size=batch_size, \n",
    "                        shuffle=True, \n",
    "                        collate_fn=collate_with_vocab)\n",
    "\n",
    "test_loader = DataLoader(test_tokens, \n",
    "                        batch_size=batch_size, \n",
    "                        shuffle=True, \n",
    "                        collate_fn=collate_with_vocab)"
   ]
  },
  {
   "cell_type": "code",
   "execution_count": null,
   "id": "cc38d47c",
   "metadata": {},
   "outputs": [
    {
     "name": "stdout",
     "output_type": "stream",
     "text": [
      "Keys: dict_keys(['tokens', 'label'])\n",
      "Token vectors: tensor([[0.0000, 1.4427, 0.0890,  ..., 0.0000, 0.0000, 0.0000],\n",
      "        [0.0000, 1.4427, 0.6231,  ..., 0.0000, 0.0000, 0.0000],\n",
      "        [0.0000, 1.4427, 0.5341,  ..., 0.0000, 0.0000, 0.0000],\n",
      "        ...,\n",
      "        [0.0000, 1.4427, 0.2671,  ..., 0.0000, 0.0000, 0.0000],\n",
      "        [0.0000, 1.4427, 0.0000,  ..., 0.0000, 0.0000, 0.0000],\n",
      "        [0.0000, 1.4427, 0.4451,  ..., 0.0000, 0.0000, 0.0000]])\n",
      "Labels: tensor([0, 0, 1, 1, 1, 0, 0, 0, 0, 1, 1, 1, 0, 1, 0, 0, 0, 0, 1, 1, 1, 0, 0, 1,\n",
      "        1, 1, 1, 1, 0, 0, 0, 0])\n",
      "Shapes: torch.Size([32, 20000]) torch.Size([32])\n"
     ]
    }
   ],
   "source": [
    "for batch in train_loader:\n",
    "    print('Keys:',batch.keys())\n",
    "    print('Token vectors:',batch[\"tokens\"])\n",
    "    print('Labels:',batch[\"label\"])\n",
    "    print('Lengths:',batch[\"lengths\"])\n",
    "    print('Shapes:',batch['tokens'].shape,batch['label'].shape)\n",
    "    break\n",
    "print('Vocabulary Size: ', len(vocab))"
   ]
  },
  {
   "cell_type": "markdown",
   "id": "3bd93a7a",
   "metadata": {},
   "source": [
    "### Initialize Model and Train"
   ]
  },
  {
   "cell_type": "code",
   "execution_count": null,
   "id": "f38f1769",
   "metadata": {},
   "outputs": [],
   "source": [
    "torch.manual_seed(0)\n",
    "# Model Hyperparameters\n",
    "epochs = 10\n",
    "learning_rate = 1e-3 # want this to be 10^-2 - 10^-4\n",
    "hidden_dim = 16 # defines hidden dense layer size\n",
    "loss_fn = nn.BCELoss() #BCELoss\n",
    "# Initialize model and optimizer\n",
    "model = BinaryClassifier(input_size = batch['tokens'].shape[1], hidden_dim = hidden_dim).to(device)\n",
    "optimizer = torch.optim.Adam(model.parameters(), lr=learning_rate)"
   ]
  },
  {
   "cell_type": "code",
   "execution_count": 8,
   "id": "2b72dbb4",
   "metadata": {},
   "outputs": [
    {
     "name": "stdout",
     "output_type": "stream",
     "text": [
      "Number of Parameters:  320033\n"
     ]
    }
   ],
   "source": [
    "number_of_parameters = 0\n",
    "for i,params in enumerate(model.parameters()):\n",
    "  number_of_parameters += params.flatten().shape[0]\n",
    "print('Number of Parameters: ', number_of_parameters)"
   ]
  },
  {
   "cell_type": "code",
   "execution_count": 9,
   "id": "aa24d6ea",
   "metadata": {},
   "outputs": [
    {
     "data": {
      "text/plain": [
       "==========================================================================================\n",
       "Layer (type:depth-idx)                   Output Shape              Param #\n",
       "==========================================================================================\n",
       "BinaryClassifier                         [32, 1]                   --\n",
       "├─Sequential: 1-1                        [32, 1]                   --\n",
       "│    └─Linear: 2-1                       [32, 16]                  320,016\n",
       "│    └─ReLU: 2-2                         [32, 16]                  --\n",
       "│    └─Dropout: 2-3                      [32, 16]                  --\n",
       "│    └─Linear: 2-4                       [32, 1]                   17\n",
       "│    └─Sigmoid: 2-5                      [32, 1]                   --\n",
       "==========================================================================================\n",
       "Total params: 320,033\n",
       "Trainable params: 320,033\n",
       "Non-trainable params: 0\n",
       "Total mult-adds (Units.MEGABYTES): 10.24\n",
       "==========================================================================================\n",
       "Input size (MB): 5.12\n",
       "Forward/backward pass size (MB): 0.01\n",
       "Params size (MB): 2.56\n",
       "Estimated Total Size (MB): 7.69\n",
       "=========================================================================================="
      ]
     },
     "execution_count": 9,
     "metadata": {},
     "output_type": "execute_result"
    }
   ],
   "source": [
    "torchinfo.summary(model, input_data=torch.randn(batch_size,20000))"
   ]
  },
  {
   "cell_type": "code",
   "execution_count": 10,
   "id": "740a4c58",
   "metadata": {},
   "outputs": [
    {
     "name": "stderr",
     "output_type": "stream",
     "text": [
      " 10%|█         | 1/10 [01:23<12:34, 83.79s/it]"
     ]
    },
    {
     "name": "stdout",
     "output_type": "stream",
     "text": [
      "Epoch: 0 | Train Loss: 0.66802324 | Val Loss: 0.61412725 | Best Val Loss: 0.61412725 | Accuracy: 0.78280000\n"
     ]
    },
    {
     "name": "stderr",
     "output_type": "stream",
     "text": [
      " 20%|██        | 2/10 [02:53<11:37, 87.14s/it]"
     ]
    },
    {
     "name": "stdout",
     "output_type": "stream",
     "text": [
      "Epoch: 1 | Train Loss: 0.60009542 | Val Loss: 0.57832820 | Best Val Loss: 0.57832820 | Accuracy: 0.86020000\n"
     ]
    },
    {
     "name": "stderr",
     "output_type": "stream",
     "text": [
      " 30%|███       | 3/10 [04:26<10:28, 89.81s/it]"
     ]
    },
    {
     "name": "stdout",
     "output_type": "stream",
     "text": [
      "Epoch: 2 | Train Loss: 0.57374268 | Val Loss: 0.56872423 | Best Val Loss: 0.56872423 | Accuracy: 0.87520000\n"
     ]
    },
    {
     "name": "stderr",
     "output_type": "stream",
     "text": [
      " 40%|████      | 4/10 [06:06<09:24, 94.10s/it]"
     ]
    },
    {
     "name": "stdout",
     "output_type": "stream",
     "text": [
      "Epoch: 3 | Train Loss: 0.56241536 | Val Loss: 0.56454674 | Best Val Loss: 0.56454674 | Accuracy: 0.87860000\n"
     ]
    },
    {
     "name": "stderr",
     "output_type": "stream",
     "text": [
      " 50%|█████     | 5/10 [07:54<08:15, 99.05s/it]"
     ]
    },
    {
     "name": "stdout",
     "output_type": "stream",
     "text": [
      "Epoch: 4 | Train Loss: 0.55373628 | Val Loss: 0.56262749 | Best Val Loss: 0.56262749 | Accuracy: 0.88000000\n"
     ]
    },
    {
     "name": "stderr",
     "output_type": "stream",
     "text": [
      " 60%|██████    | 6/10 [09:46<06:53, 103.50s/it]"
     ]
    },
    {
     "name": "stdout",
     "output_type": "stream",
     "text": [
      "Epoch: 5 | Train Loss: 0.54863495 | Val Loss: 0.56123251 | Best Val Loss: 0.56123251 | Accuracy: 0.87920000\n"
     ]
    },
    {
     "name": "stderr",
     "output_type": "stream",
     "text": [
      " 70%|███████   | 7/10 [11:38<05:18, 106.20s/it]"
     ]
    },
    {
     "name": "stdout",
     "output_type": "stream",
     "text": [
      "Epoch: 6 | Train Loss: 0.54309451 | Val Loss: 0.56052426 | Best Val Loss: 0.56052426 | Accuracy: 0.87820000\n"
     ]
    },
    {
     "name": "stderr",
     "output_type": "stream",
     "text": [
      " 80%|████████  | 8/10 [13:32<03:37, 108.63s/it]"
     ]
    },
    {
     "name": "stdout",
     "output_type": "stream",
     "text": [
      "Epoch: 7 | Train Loss: 0.53901934 | Val Loss: 0.56024124 | Best Val Loss: 0.56024124 | Accuracy: 0.87680000\n"
     ]
    },
    {
     "name": "stderr",
     "output_type": "stream",
     "text": [
      " 90%|█████████ | 9/10 [15:26<01:50, 110.47s/it]"
     ]
    },
    {
     "name": "stdout",
     "output_type": "stream",
     "text": [
      "Epoch: 8 | Train Loss: 0.53591238 | Val Loss: 0.56182462 | Best Val Loss: 0.56024124 | Accuracy: 0.87760000\n"
     ]
    },
    {
     "name": "stderr",
     "output_type": "stream",
     "text": [
      "100%|██████████| 10/10 [17:22<00:00, 104.24s/it]"
     ]
    },
    {
     "name": "stdout",
     "output_type": "stream",
     "text": [
      "Epoch: 9 | Train Loss: 0.53327498 | Val Loss: 0.56161735 | Best Val Loss: 0.56024124 | Accuracy: 0.87820000\n",
      "Training Complete. Total Time (s): 1042.4396390914917\n"
     ]
    },
    {
     "name": "stderr",
     "output_type": "stream",
     "text": [
      "\n"
     ]
    }
   ],
   "source": [
    "training_history = training(train_loader,\n",
    "                            val_loader,\n",
    "                            epochs,\n",
    "                            loss_fn,\n",
    "                            model,\n",
    "                            optimizer,\n",
    "                            regularize = False)"
   ]
  },
  {
   "cell_type": "markdown",
   "id": "a62f4422",
   "metadata": {},
   "source": [
    "### Evaluate Model"
   ]
  },
  {
   "cell_type": "code",
   "execution_count": 12,
   "id": "3929aa4d",
   "metadata": {},
   "outputs": [
    {
     "data": {
      "text/plain": [
       "BinaryClassifier(\n",
       "  (bc): Sequential(\n",
       "    (0): Linear(in_features=20000, out_features=16, bias=True)\n",
       "    (1): ReLU()\n",
       "    (2): Dropout(p=0.5, inplace=False)\n",
       "    (3): Linear(in_features=16, out_features=1, bias=True)\n",
       "    (4): Sigmoid()\n",
       "  )\n",
       ")"
      ]
     },
     "execution_count": 12,
     "metadata": {},
     "output_type": "execute_result"
    }
   ],
   "source": [
    "# --- Saving ---\n",
    "# torch.save(model.state_dict(), \"weights/binaryclassifier_model.pth\")\n",
    "\n",
    "# --- Loading ---\n",
    "# create model instance\n",
    "model = BinaryClassifier(input_size = batch['tokens'].shape[1], hidden_dim = hidden_dim).to(device) \n",
    "model.load_state_dict(torch.load(\"weights/binaryclassifier_model.pth\"))\n",
    "model.eval()   # set to eval mode for inference"
   ]
  },
  {
   "cell_type": "code",
   "execution_count": 13,
   "id": "a71cb688",
   "metadata": {},
   "outputs": [
    {
     "data": {
      "text/plain": [
       "dict_keys(['train_loss', 'val_loss', 'accuracy', 'weights', 'components_loss'])"
      ]
     },
     "execution_count": 13,
     "metadata": {},
     "output_type": "execute_result"
    }
   ],
   "source": [
    "training_history['history'].keys()"
   ]
  },
  {
   "cell_type": "code",
   "execution_count": 14,
   "id": "b8db440a",
   "metadata": {},
   "outputs": [],
   "source": [
    "# np.save(data_path+f'train_su{2**qubit_number}_su{2**mod_fraction}_lay{n_layers}_ep{epochs}_lr{lr}_param{count}.npy',model_history['history']['train_loss'])\n",
    "# np.save(data_path+f'weights_su{2**qubit_number}_su{2**mod_fraction}_lay{n_layers}_ep{epochs}_lr{lr}_param{count}.npy',model_history['history']['weights'][0])"
   ]
  },
  {
   "cell_type": "code",
   "execution_count": 16,
   "id": "5422282b",
   "metadata": {},
   "outputs": [
    {
     "data": {
      "text/plain": [
       "Text(0.5, 0, 'Epoch')"
      ]
     },
     "execution_count": 16,
     "metadata": {},
     "output_type": "execute_result"
    },
    {
     "data": {
      "image/png": "[encoded data removed]",
      "text/plain": [
       "<Figure size 500x300 with 1 Axes>"
      ]
     },
     "metadata": {},
     "output_type": "display_data"
    }
   ],
   "source": [
    "plt.figure(figsize=(5,3))\n",
    "epoch_list = [i for i in range(epochs)]\n",
    "plt.plot(epoch_list,training_history['history']['train_loss'],label= 'Train Loss',c='b')\n",
    "plt.plot(epoch_list,training_history['history']['val_loss'],label= 'Val Loss',c='r')\n",
    "plt.plot(epoch_list,training_history['history']['accuracy'], label = 'Val Acc',c='g')\n",
    "plt.legend()\n",
    "plt.title(f'Loss Landscape for {ngram_size}-grams')\n",
    "plt.ylabel('Loss/Acc')\n",
    "plt.xlabel('Epoch')\n",
    "# plt.savefig(\"loss.png\", bbox_inches=\"tight\")"
   ]
  },
  {
   "cell_type": "markdown",
   "id": "5bf32732",
   "metadata": {},
   "source": [
    "Check Test Data\n",
    "- Confusion Matrix\n",
    "- Accuracy\n",
    "- ROC Curve\n",
    "- ROC AUC Score\n",
    "- PR AUC Curve\n",
    "- PR Score\n",
    "- F1 Score\n",
    "\n",
    "\n",
    "20 Evaluation Metrics for Binary Classification: https://neptune.ai/blog/evaluation-metrics-binary-classification"
   ]
  },
  {
   "cell_type": "markdown",
   "id": "9df8bf16",
   "metadata": {},
   "source": [
    "1. Confusion Matrix\n",
    "\n",
    "- True Positive (TP): those samples correctly classfied as positive\n",
    "- True Negative (TN): those samples correctly classified as negative\n",
    "- False Positive (FP): negative samples classified as positive\n",
    "- False Negative (FN): positive samples classified as negative\n",
    "\n",
    "$$\n",
    "CM = \n",
    "\\begin{pmatrix}\n",
    "        TN & FP \\\\\n",
    "        FN & TP\n",
    "\\end{pmatrix}\n",
    "$$\n",
    "\n",
    "True vs. Predicted table axes.\n",
    "\n",
    "2. Accuracy\n",
    "\n",
    "$$\n",
    "ACC = \\frac{correct}{total} = \\frac{TP+TN}{TP+FP+TN+FN}\n",
    "$$\n",
    "\n",
    "- False Positive Rate (type I error):\n",
    "\n",
    "$$\n",
    "FPR = \\frac{FP}{all-negative} = \\frac{FP}{FP+TN}\n",
    "$$\n",
    "\n",
    "- False Negative Rate (type II error):\n",
    "\n",
    "$$\n",
    "FNR = \\frac{FN}{all-positive} = \\frac{FN}{FN+TP}\n",
    "$$\n",
    "\n",
    "- True Negative Rate (specificity):\n",
    "\n",
    "$$\n",
    "TNR = \\frac{TN}{all-negative} = \\frac{TN}{FP+TN}\n",
    "$$\n",
    "\n",
    "- True Positive Rate (recall/sensitivity):\n",
    "\n",
    "$$\n",
    "TPR = \\frac{TP}{all-positive} = \\frac{TP}{FN+TP}\n",
    "$$\n",
    "\n",
    "- Negative Predictive Value\n",
    "\n",
    "$$\n",
    "NPV = \\frac{TN}{all-negative-pred} = \\frac{TN}{FN+TN}\n",
    "$$\n",
    "\n",
    "- False Discovery Rate\n",
    "\n",
    "$$\n",
    "FDR = \\frac{FP}{all-positive-pred} = \\frac{FP}{FP+TP}\n",
    "$$\n",
    "\n",
    "- Positive Predictive Value (precision)\n",
    "\n",
    "$$\n",
    "PPV = \\frac{TP}{all-positive-pred} = \\frac{TP}{TP+FP}\n",
    "$$\n",
    "\n",
    "3. F beta Score\n",
    "\n",
    "$$\n",
    "F_\\beta = (1+\\beta^2) \\frac{precision*recall}{\\beta^2*precision+recall} =  (1+\\beta^2) \\frac{PPV*TPR}{\\beta^2*PPV+TPR}\n",
    "$$\n",
    "\n",
    "The F1 Score is when $\\beta =1$. F2 Score is when $\\beta =2$.\n",
    "\n",
    "\n",
    "4. ROC Curve\n",
    "5. ROC AUC Score\n",
    "6. Precision-Recall Curve\n",
    "7. PR AUC Score (average precision)\n",
    "\n",
    "Others not dicussed here:\n",
    "- Cohen kappa metric\n",
    "- Matthews correlation coefficient (MCC)\n",
    "- Brier Score"
   ]
  },
  {
   "cell_type": "code",
   "execution_count": null,
   "id": "c0719f50",
   "metadata": {},
   "outputs": [
    {
     "name": "stdout",
     "output_type": "stream",
     "text": [
      "Test Accuracy:  0.87556\n"
     ]
    }
   ],
   "source": [
    "correct_predictions = 0\n",
    "total_predictions = 0\n",
    "model.to(device)\n",
    "model.eval()\n",
    "with torch.inference_mode():\n",
    "        for batch_idx, batch in enumerate(test_loader):#tqdm(enumerate(train_loader)):\n",
    "                input_data = batch['tokens'].to(device).to(torch.float64)\n",
    "                lengths_data = batch['lengths'].to(device)\n",
    "                label_data = batch['label'].to(device).to(torch.float64).unsqueeze(1)\n",
    "                \n",
    "                predictions = (model(input_data,lengths_data)>0.5).long()\n",
    "                correct_predictions += (label_data.long()==predictions).sum().item()\n",
    "                total_predictions += label_data.shape[0]\n",
    "\n",
    "accuracy = correct_predictions / total_predictions\n",
    "print('Test Accuracy: ', accuracy)"
   ]
  },
  {
   "cell_type": "code",
   "execution_count": 18,
   "id": "6cf3e48e",
   "metadata": {},
   "outputs": [
    {
     "name": "stdout",
     "output_type": "stream",
     "text": [
      "              precision    recall  f1-score   support\n",
      "\n",
      "         0.0     0.8645    0.8908    0.8774     12500\n",
      "         1.0     0.8874    0.8603    0.8736     12500\n",
      "\n",
      "    accuracy                         0.8756     25000\n",
      "   macro avg     0.8759    0.8756    0.8755     25000\n",
      "weighted avg     0.8759    0.8756    0.8755     25000\n",
      "\n"
     ]
    },
    {
     "data": {
      "image/png": "[encoded data removed]",
      "text/plain": [
       "<Figure size 500x400 with 1 Axes>"
      ]
     },
     "metadata": {},
     "output_type": "display_data"
    },
    {
     "data": {
      "image/png": "[encoded data removed]",
      "text/plain": [
       "<Figure size 640x480 with 2 Axes>"
      ]
     },
     "metadata": {},
     "output_type": "display_data"
    },
    {
     "data": {
      "image/png": "[encoded data removed]",
      "text/plain": [
       "<Figure size 500x400 with 1 Axes>"
      ]
     },
     "metadata": {},
     "output_type": "display_data"
    },
    {
     "data": {
      "image/png": "[encoded data removed]",
      "text/plain": [
       "<Figure size 640x480 with 1 Axes>"
      ]
     },
     "metadata": {},
     "output_type": "display_data"
    },
    {
     "data": {
      "image/png": "[encoded data removed]",
      "text/plain": [
       "<Figure size 500x400 with 1 Axes>"
      ]
     },
     "metadata": {},
     "output_type": "display_data"
    },
    {
     "data": {
      "image/png": "[encoded data removed]",
      "text/plain": [
       "<Figure size 640x480 with 1 Axes>"
      ]
     },
     "metadata": {},
     "output_type": "display_data"
    },
    {
     "name": "stdout",
     "output_type": "stream",
     "text": [
      "Best threshold by F1: 0.13 F1: 0.8795933413526833\n"
     ]
    }
   ],
   "source": [
    "y_true, y_pred, y_probs = outputs(model, test_loader, device=device)\n",
    "metrics = compute_metrics(y_true, y_pred, y_probs)\n",
    "print(metrics['report'])\n",
    "plot_confusion_matrix(y_true, y_pred, normalize=None)   # or normalize='true'\n",
    "# plt.savefig(\"confusion.png\", bbox_inches=\"tight\")\n",
    "plot_roc_curve(y_true, y_probs)\n",
    "# plt.savefig(\"roc.png\", bbox_inches=\"tight\")\n",
    "plot_precision_recall(y_true, y_probs)\n",
    "# plt.savefig(\"precisionrecall.png\", bbox_inches=\"tight\")\n",
    "best_t, best_f1, sweep = threshold_sweep(y_true, y_probs)\n",
    "print(\"Best threshold by F1:\", best_t, \"F1:\", best_f1)"
   ]
  },
  {
   "cell_type": "markdown",
   "id": "f2dcd6c3",
   "metadata": {},
   "source": [
    "### 11.3.3 Processing Words as a sequence: The sequence model approach"
   ]
  },
  {
   "cell_type": "markdown",
   "id": "d9c0b306",
   "metadata": {},
   "source": [
    "### Download, Preprocess, Tokenize the data, Make vocabulary, vectorize the data (sequence), and create train/test/val dataloaders\n",
    "\n",
    "- Recurrent NNs\n",
    "- LSTM\n",
    "- Transformer"
   ]
  },
  {
   "cell_type": "markdown",
   "id": "9cd45bde",
   "metadata": {},
   "source": [
    "Recurrent Neural Network (RNN)\n",
    "\n",
    "- Takes in time-series data (t_steps,feature)\n",
    "- Incorporates output of previous layer to next layer\n",
    "- Collects all time step outputs into a single vector for classification/regression\n",
    "- See below for how it is done in practice\n",
    "\n",
    "\n",
    "<p align=\"center\">\n",
    "  <img src=\"images/rnn.png\" alt=\"rnn\" width=\"600\"/>\n",
    "</p>\n",
    "<!-- ![rnn](<images/rnn.png>) -->"
   ]
  },
  {
   "cell_type": "code",
   "execution_count": null,
   "id": "52ebd492",
   "metadata": {},
   "outputs": [],
   "source": [
    "''' RNN\n",
    "successive_outputs = []\n",
    "for input_t in inputs:\n",
    "    output_t = activation(np.dot(W, input_t) + np.dot(U, state_t) + b)\n",
    "    succsessive_outputs.append(output_t)\n",
    "    state_t = output_t\n",
    "final_output_sequence = np.stack(successive_outputs, axis = 0)\n",
    "'''"
   ]
  },
  {
   "cell_type": "markdown",
   "id": "f64a7c18",
   "metadata": {},
   "source": [
    "Long Short-Term Memory (LSTM)\n",
    "\n",
    "- Base is a RNN\n",
    "- Uses another carry over variable C to not just include the previous output, but information from all previous time steps\n",
    "\n",
    "\n",
    "<p align=\"center\">\n",
    "  <img src=\"images/lstm.png\" alt=\"lstm\" width=\"600\"/>\n",
    "</p>"
   ]
  },
  {
   "cell_type": "code",
   "execution_count": null,
   "id": "001e1780",
   "metadata": {},
   "outputs": [],
   "source": [
    "''' LSTM\n",
    "successive_outputs = []\n",
    "for input_t in inputs:\n",
    "    output_t = activation(np.dot(W, input_t) + np.dot(U, state_t) + np.dot(V, carry_t) + b)\n",
    "    i_t = activation( np.dot(Ui, state_t) + np.dot(Wi, input_t) + bi)\n",
    "    f_t = activation( np.dot(Uf, state_t) + np.dot(Wf, input_t) + bf)\n",
    "    k_t = activation( np.dot(Uk, state_t) + np.dot(Wk, input_t) + bk)\n",
    "    succsessive_outputs.append(output_t)\n",
    "    carry_t = i_t * k_t + carry_t*f_t\n",
    "    state_t = output_t\n",
    "final_output_sequence = np.stack(successive_outputs, axis = 0)\n",
    "'''"
   ]
  },
  {
   "cell_type": "code",
   "execution_count": null,
   "id": "040c82ab",
   "metadata": {},
   "outputs": [
    {
     "name": "stdout",
     "output_type": "stream",
     "text": [
      "Device:  cpu\n",
      "Text: stage adaptations often have a major fault they often come out looking like a film camera was simply placed on the stage such as night mother sidney lumets direction keeps the film alive which is especially difficult since the picture offered him no real challenge still its nice to look at for what it is the chemistry between michael caine and christopher reeve is quite brilliant the dynamics of their relationship are surprising caine is fantastic as always and reeve gets one of his few chances to really actbr br i confess that ive never seen ira levins play but i hear that jay presson allens adaptation is faithful the script is incredibly convoluted and keeps you guessing deathtrap is an enormously entertaining film and is recommended for nearly all fans of stage and screenbr br 74 out of 10\n",
      "Label: 1\n",
      "Tokens: ['stage', 'adaptations', 'often', 'have', 'a', 'major', 'fault', 'they', 'often', 'come']\n",
      "Keys: dict_keys(['tokens', 'lengths', 'label'])\n",
      "Token vectors: tensor([[2122,    2,  215,  ...,    0,    0,    0],\n",
      "        [ 588,   17,   26,  ...,    0,    0,    0],\n",
      "        [  86,   17,   19,  ...,    0,    0,    0],\n",
      "        ...,\n",
      "        [1434,  659,   17,  ...,    0,    0,    0],\n",
      "        [1460,   22,   40,  ...,    0,    0,    0],\n",
      "        [   1,    1,   52,  ...,    0,    0,    0]])\n",
      "torch.Size([32, 1006, 10])\n",
      "Labels: tensor([0, 0, 1, 1, 1, 0, 0, 0, 0, 1, 1, 1, 0, 1, 0, 0, 0, 0, 1, 1, 1, 0, 0, 1,\n",
      "        1, 1, 1, 1, 0, 0, 0, 0])\n",
      "Lengths: tensor([ 120,  109,  584,  202, 1006,  151,  727,  213,  169,   46,  131,  270,\n",
      "         170,   86,   95,  208,  174,   86,  119,  427,  187,  117,  120,  148,\n",
      "          72,  281,  149,  308,  124,  110,  107,  130])\n",
      "Shapes: torch.Size([32, 1006]) torch.Size([32])\n",
      "Vocabulary Size:  20000\n"
     ]
    }
   ],
   "source": [
    "'''\n",
    "Do it with Hugging Face Datasets / PyTorch and avoid the manuals step\n",
    "\n",
    "Hugging Face Datasets: https://huggingface.co/docs/datasets/en/index\n",
    "'''\n",
    "from utils import *\n",
    "ngram_size = 1\n",
    "max_vocab_length = 20000\n",
    "batch_size = 32\n",
    "train_loader, val_loader, test_loader, vocab, max_seq_length = get_data(ngram_size,\n",
    "                                                                        max_vocab_length,\n",
    "                                                                        batch_size)\n",
    "\n",
    "for i,batch in enumerate(train_loader):\n",
    "    # if i <2:\n",
    "    print('Keys:',batch.keys())\n",
    "    print('Token vectors:',batch[\"tokens\"])\n",
    "    print(nn.Embedding(num_embeddings=len(vocab), embedding_dim=10, padding_idx=vocab[\"<pad>\"])(batch[\"tokens\"]).shape)\n",
    "    print('Labels:',batch[\"label\"])\n",
    "    print('Lengths:',batch[\"lengths\"])\n",
    "    print('Shapes:',batch['tokens'].shape,batch['label'].shape)\n",
    "    break\n",
    "print('Vocabulary Size: ', len(vocab))"
   ]
  },
  {
   "cell_type": "markdown",
   "id": "b316c32c",
   "metadata": {},
   "source": [
    "### Initialize Model and Train"
   ]
  },
  {
   "cell_type": "markdown",
   "id": "b5b32c39",
   "metadata": {},
   "source": [
    "Note: In the below LSTM model, you can choose either OneHot encoding or the word Embedding function in the PyTorch nn.Module.\n",
    "\n",
    "One-hot (individual) word vectors:\n",
    "- Sparse\n",
    "- High-dimensional\n",
    "- Hardcoded\n",
    "\n",
    "Word Embeddings:\n",
    "- Dense\n",
    "- Lower-dimensional\n",
    "- Learned from data\n",
    "\n",
    "or \n",
    "\n",
    "Pretrained word embeddings"
   ]
  },
  {
   "cell_type": "code",
   "execution_count": null,
   "id": "e2efcff5",
   "metadata": {},
   "outputs": [],
   "source": [
    "torch.manual_seed(0)\n",
    "# Model Hyperparameters\n",
    "epochs = 10\n",
    "learning_rate = 1e-3 # want this to be 10^-2 - 10^-4\n",
    "hidden_dim = 4 # defines hidden dense layer size\n",
    "embed_dim = 64 # If using OneHot = len(vocab)\n",
    "# Initialize model and optimizer\n",
    "model = BinaryClassifierLSTM(hidden_dim = hidden_dim, \n",
    "                             vocab = vocab, \n",
    "                             embed_dim = embed_dim).to(device)\n",
    "optimizer = torch.optim.Adam(model.parameters(), lr=learning_rate)\n",
    "loss_fn = nn.BCELoss() #BCELoss"
   ]
  },
  {
   "cell_type": "code",
   "execution_count": 7,
   "id": "d5aefd74",
   "metadata": {},
   "outputs": [
    {
     "name": "stdout",
     "output_type": "stream",
     "text": [
      "Number of Parameters:  1282249\n"
     ]
    }
   ],
   "source": [
    "number_of_parameters = 0\n",
    "for i,params in enumerate(model.parameters()):\n",
    "  number_of_parameters += params.flatten().shape[0]\n",
    "print('Number of Parameters: ', number_of_parameters)"
   ]
  },
  {
   "cell_type": "code",
   "execution_count": 8,
   "id": "ec4fc46c",
   "metadata": {},
   "outputs": [
    {
     "data": {
      "text/plain": [
       "==========================================================================================\n",
       "Layer (type:depth-idx)                   Output Shape              Param #\n",
       "==========================================================================================\n",
       "BinaryClassifierLSTM                     [32, 1]                   --\n",
       "├─Embedding: 1-1                         [32, 3000, 64]            1,280,000\n",
       "├─LSTM: 1-2                              [50726, 8]                2,240\n",
       "├─Dropout: 1-3                           [32, 8]                   --\n",
       "├─Linear: 1-4                            [32, 1]                   9\n",
       "├─Sigmoid: 1-5                           [32, 1]                   --\n",
       "==========================================================================================\n",
       "Total params: 1,282,249\n",
       "Trainable params: 1,282,249\n",
       "Non-trainable params: 0\n",
       "Total mult-adds (Units.MEGABYTES): 949.97\n",
       "==========================================================================================\n",
       "Input size (MB): 0.77\n",
       "Forward/backward pass size (MB): 104.80\n",
       "Params size (MB): 10.26\n",
       "Estimated Total Size (MB): 115.82\n",
       "=========================================================================================="
      ]
     },
     "execution_count": 8,
     "metadata": {},
     "output_type": "execute_result"
    }
   ],
   "source": [
    "torchinfo.summary(model, input_data=[torch.randint(0,len(vocab),(batch_size,3000)), torch.randint(0,3000,(batch_size,)) ])"
   ]
  },
  {
   "cell_type": "code",
   "execution_count": 9,
   "id": "d530cf0b",
   "metadata": {},
   "outputs": [
    {
     "name": "stderr",
     "output_type": "stream",
     "text": [
      "  0%|          | 0/10 [00:27<?, ?it/s]\n"
     ]
    },
    {
     "ename": "KeyboardInterrupt",
     "evalue": "",
     "output_type": "error",
     "traceback": [
      "\u001b[0;31m---------------------------------------------------------------------------\u001b[0m",
      "\u001b[0;31mKeyboardInterrupt\u001b[0m                         Traceback (most recent call last)",
      "Cell \u001b[0;32mIn[9], line 1\u001b[0m\n\u001b[0;32m----> 1\u001b[0m training_history \u001b[38;5;241m=\u001b[39m training(train_loader,\n\u001b[1;32m      2\u001b[0m                             val_loader,\n\u001b[1;32m      3\u001b[0m                             epochs,\n\u001b[1;32m      4\u001b[0m                             loss_fn,\n\u001b[1;32m      5\u001b[0m                             model,\n\u001b[1;32m      6\u001b[0m                             optimizer,\n\u001b[1;32m      7\u001b[0m                             regularize \u001b[38;5;241m=\u001b[39m \u001b[38;5;28;01mFalse\u001b[39;00m)\n",
      "File \u001b[0;32m~/Desktop/desktop/anthropic/utils.py:433\u001b[0m, in \u001b[0;36mtraining\u001b[0;34m(train_data, val_data, epochs, loss_fn, model, optimizer, regularize)\u001b[0m\n\u001b[1;32m    431\u001b[0m     label_data \u001b[38;5;241m=\u001b[39m batch[\u001b[38;5;124m'\u001b[39m\u001b[38;5;124mlabel\u001b[39m\u001b[38;5;124m'\u001b[39m]\u001b[38;5;241m.\u001b[39mto(device)\u001b[38;5;241m.\u001b[39mto(torch\u001b[38;5;241m.\u001b[39mfloat64)\u001b[38;5;241m.\u001b[39munsqueeze(\u001b[38;5;241m1\u001b[39m)\n\u001b[1;32m    432\u001b[0m     \u001b[38;5;66;03m# Use a train function for separate backprop vs. no-backprop    \u001b[39;00m\n\u001b[0;32m--> 433\u001b[0m     train_loss, predictions, trained_weights \u001b[38;5;241m=\u001b[39m train(input_data, \n\u001b[1;32m    434\u001b[0m                                                     label_data, \n\u001b[1;32m    435\u001b[0m                                                     lengths_data,\n\u001b[1;32m    436\u001b[0m                                                     model, \n\u001b[1;32m    437\u001b[0m                                                     loss_fn,\n\u001b[1;32m    438\u001b[0m                                                     optimizer,\n\u001b[1;32m    439\u001b[0m                                                     backprop\u001b[38;5;241m=\u001b[39m\u001b[38;5;28;01mTrue\u001b[39;00m, \n\u001b[1;32m    440\u001b[0m                                                     last_epoch \u001b[38;5;241m=\u001b[39m last_step, \n\u001b[1;32m    441\u001b[0m                                                     regularize \u001b[38;5;241m=\u001b[39m regularize)\n\u001b[1;32m    443\u001b[0m     running_train_loss \u001b[38;5;241m+\u001b[39m\u001b[38;5;241m=\u001b[39m train_loss\u001b[38;5;241m.\u001b[39mitem() \u001b[38;5;241m*\u001b[39m input_data\u001b[38;5;241m.\u001b[39mshape[\u001b[38;5;241m0\u001b[39m] \u001b[38;5;66;03m# weight loss by size of each batch\u001b[39;00m\n\u001b[1;32m    445\u001b[0m train_loss \u001b[38;5;241m=\u001b[39m running_train_loss \u001b[38;5;241m/\u001b[39m \u001b[38;5;28mlen\u001b[39m(train_data\u001b[38;5;241m.\u001b[39mdataset) \u001b[38;5;66;03m# compute global average, center of \"loss\" (mass)\u001b[39;00m\n",
      "File \u001b[0;32m~/Desktop/desktop/anthropic/utils.py:492\u001b[0m, in \u001b[0;36mtrain\u001b[0;34m(input_data, label_data, lengths_data, model, loss_fn, optimizer, backprop, last_epoch, regularize)\u001b[0m\n\u001b[1;32m    490\u001b[0m \u001b[38;5;28;01mif\u001b[39;00m backprop:\n\u001b[1;32m    491\u001b[0m     model\u001b[38;5;241m.\u001b[39mtrain()\n\u001b[0;32m--> 492\u001b[0m     predictions \u001b[38;5;241m=\u001b[39m model(input_data, lengths_data)\n\u001b[1;32m    493\u001b[0m     loss \u001b[38;5;241m=\u001b[39m loss_fn(predictions, label_data)\n\u001b[1;32m    494\u001b[0m     optimizer\u001b[38;5;241m.\u001b[39mzero_grad()\n",
      "File \u001b[0;32m/opt/anaconda3/lib/python3.12/site-packages/torch/nn/modules/module.py:1773\u001b[0m, in \u001b[0;36mModule._wrapped_call_impl\u001b[0;34m(self, *args, **kwargs)\u001b[0m\n\u001b[1;32m   1771\u001b[0m     \u001b[38;5;28;01mreturn\u001b[39;00m \u001b[38;5;28mself\u001b[39m\u001b[38;5;241m.\u001b[39m_compiled_call_impl(\u001b[38;5;241m*\u001b[39margs, \u001b[38;5;241m*\u001b[39m\u001b[38;5;241m*\u001b[39mkwargs)  \u001b[38;5;66;03m# type: ignore[misc]\u001b[39;00m\n\u001b[1;32m   1772\u001b[0m \u001b[38;5;28;01melse\u001b[39;00m:\n\u001b[0;32m-> 1773\u001b[0m     \u001b[38;5;28;01mreturn\u001b[39;00m \u001b[38;5;28mself\u001b[39m\u001b[38;5;241m.\u001b[39m_call_impl(\u001b[38;5;241m*\u001b[39margs, \u001b[38;5;241m*\u001b[39m\u001b[38;5;241m*\u001b[39mkwargs)\n",
      "File \u001b[0;32m/opt/anaconda3/lib/python3.12/site-packages/torch/nn/modules/module.py:1784\u001b[0m, in \u001b[0;36mModule._call_impl\u001b[0;34m(self, *args, **kwargs)\u001b[0m\n\u001b[1;32m   1779\u001b[0m \u001b[38;5;66;03m# If we don't have any hooks, we want to skip the rest of the logic in\u001b[39;00m\n\u001b[1;32m   1780\u001b[0m \u001b[38;5;66;03m# this function, and just call forward.\u001b[39;00m\n\u001b[1;32m   1781\u001b[0m \u001b[38;5;28;01mif\u001b[39;00m \u001b[38;5;129;01mnot\u001b[39;00m (\u001b[38;5;28mself\u001b[39m\u001b[38;5;241m.\u001b[39m_backward_hooks \u001b[38;5;129;01mor\u001b[39;00m \u001b[38;5;28mself\u001b[39m\u001b[38;5;241m.\u001b[39m_backward_pre_hooks \u001b[38;5;129;01mor\u001b[39;00m \u001b[38;5;28mself\u001b[39m\u001b[38;5;241m.\u001b[39m_forward_hooks \u001b[38;5;129;01mor\u001b[39;00m \u001b[38;5;28mself\u001b[39m\u001b[38;5;241m.\u001b[39m_forward_pre_hooks\n\u001b[1;32m   1782\u001b[0m         \u001b[38;5;129;01mor\u001b[39;00m _global_backward_pre_hooks \u001b[38;5;129;01mor\u001b[39;00m _global_backward_hooks\n\u001b[1;32m   1783\u001b[0m         \u001b[38;5;129;01mor\u001b[39;00m _global_forward_hooks \u001b[38;5;129;01mor\u001b[39;00m _global_forward_pre_hooks):\n\u001b[0;32m-> 1784\u001b[0m     \u001b[38;5;28;01mreturn\u001b[39;00m forward_call(\u001b[38;5;241m*\u001b[39margs, \u001b[38;5;241m*\u001b[39m\u001b[38;5;241m*\u001b[39mkwargs)\n\u001b[1;32m   1786\u001b[0m result \u001b[38;5;241m=\u001b[39m \u001b[38;5;28;01mNone\u001b[39;00m\n\u001b[1;32m   1787\u001b[0m called_always_called_hooks \u001b[38;5;241m=\u001b[39m \u001b[38;5;28mset\u001b[39m()\n",
      "File \u001b[0;32m~/Desktop/desktop/anthropic/utils.py:323\u001b[0m, in \u001b[0;36mBinaryClassifierLSTM.forward\u001b[0;34m(self, x1, lengths)\u001b[0m\n\u001b[1;32m    317\u001b[0m packed \u001b[38;5;241m=\u001b[39m pack_padded_sequence(x, \n\u001b[1;32m    318\u001b[0m                              lengths\u001b[38;5;241m.\u001b[39mcpu(), \n\u001b[1;32m    319\u001b[0m                              batch_first\u001b[38;5;241m=\u001b[39m\u001b[38;5;28;01mTrue\u001b[39;00m, \n\u001b[1;32m    320\u001b[0m                              enforce_sorted\u001b[38;5;241m=\u001b[39m\u001b[38;5;28;01mFalse\u001b[39;00m)\n\u001b[1;32m    322\u001b[0m \u001b[38;5;66;03m# LSTM\u001b[39;00m\n\u001b[0;32m--> 323\u001b[0m packed_out, (h_n, c_n) \u001b[38;5;241m=\u001b[39m \u001b[38;5;28mself\u001b[39m\u001b[38;5;241m.\u001b[39mlstm(packed)\n\u001b[1;32m    325\u001b[0m \u001b[38;5;66;03m# If you want the last hidden state (handles variable lengths correctly):\u001b[39;00m\n\u001b[1;32m    326\u001b[0m \u001b[38;5;66;03m# h_n shape: [num_directions, batch, hidden_dim]\u001b[39;00m\n\u001b[1;32m    327\u001b[0m \u001b[38;5;66;03m# last_hidden = h_n.transpose(0,1).reshape(x.size(0), -1)  # [batch, 2*hidden_dim]\u001b[39;00m\n\u001b[1;32m    328\u001b[0m \n\u001b[1;32m    329\u001b[0m \u001b[38;5;66;03m# unpack\u001b[39;00m\n\u001b[1;32m    330\u001b[0m unpacked, _ \u001b[38;5;241m=\u001b[39m pad_packed_sequence(packed_out, batch_first\u001b[38;5;241m=\u001b[39m\u001b[38;5;28;01mTrue\u001b[39;00m)  \u001b[38;5;66;03m# [batch, max_len, 2*hidden_dim]\u001b[39;00m\n",
      "File \u001b[0;32m/opt/anaconda3/lib/python3.12/site-packages/torch/nn/modules/module.py:1773\u001b[0m, in \u001b[0;36mModule._wrapped_call_impl\u001b[0;34m(self, *args, **kwargs)\u001b[0m\n\u001b[1;32m   1771\u001b[0m     \u001b[38;5;28;01mreturn\u001b[39;00m \u001b[38;5;28mself\u001b[39m\u001b[38;5;241m.\u001b[39m_compiled_call_impl(\u001b[38;5;241m*\u001b[39margs, \u001b[38;5;241m*\u001b[39m\u001b[38;5;241m*\u001b[39mkwargs)  \u001b[38;5;66;03m# type: ignore[misc]\u001b[39;00m\n\u001b[1;32m   1772\u001b[0m \u001b[38;5;28;01melse\u001b[39;00m:\n\u001b[0;32m-> 1773\u001b[0m     \u001b[38;5;28;01mreturn\u001b[39;00m \u001b[38;5;28mself\u001b[39m\u001b[38;5;241m.\u001b[39m_call_impl(\u001b[38;5;241m*\u001b[39margs, \u001b[38;5;241m*\u001b[39m\u001b[38;5;241m*\u001b[39mkwargs)\n",
      "File \u001b[0;32m/opt/anaconda3/lib/python3.12/site-packages/torch/nn/modules/module.py:1784\u001b[0m, in \u001b[0;36mModule._call_impl\u001b[0;34m(self, *args, **kwargs)\u001b[0m\n\u001b[1;32m   1779\u001b[0m \u001b[38;5;66;03m# If we don't have any hooks, we want to skip the rest of the logic in\u001b[39;00m\n\u001b[1;32m   1780\u001b[0m \u001b[38;5;66;03m# this function, and just call forward.\u001b[39;00m\n\u001b[1;32m   1781\u001b[0m \u001b[38;5;28;01mif\u001b[39;00m \u001b[38;5;129;01mnot\u001b[39;00m (\u001b[38;5;28mself\u001b[39m\u001b[38;5;241m.\u001b[39m_backward_hooks \u001b[38;5;129;01mor\u001b[39;00m \u001b[38;5;28mself\u001b[39m\u001b[38;5;241m.\u001b[39m_backward_pre_hooks \u001b[38;5;129;01mor\u001b[39;00m \u001b[38;5;28mself\u001b[39m\u001b[38;5;241m.\u001b[39m_forward_hooks \u001b[38;5;129;01mor\u001b[39;00m \u001b[38;5;28mself\u001b[39m\u001b[38;5;241m.\u001b[39m_forward_pre_hooks\n\u001b[1;32m   1782\u001b[0m         \u001b[38;5;129;01mor\u001b[39;00m _global_backward_pre_hooks \u001b[38;5;129;01mor\u001b[39;00m _global_backward_hooks\n\u001b[1;32m   1783\u001b[0m         \u001b[38;5;129;01mor\u001b[39;00m _global_forward_hooks \u001b[38;5;129;01mor\u001b[39;00m _global_forward_pre_hooks):\n\u001b[0;32m-> 1784\u001b[0m     \u001b[38;5;28;01mreturn\u001b[39;00m forward_call(\u001b[38;5;241m*\u001b[39margs, \u001b[38;5;241m*\u001b[39m\u001b[38;5;241m*\u001b[39mkwargs)\n\u001b[1;32m   1786\u001b[0m result \u001b[38;5;241m=\u001b[39m \u001b[38;5;28;01mNone\u001b[39;00m\n\u001b[1;32m   1787\u001b[0m called_always_called_hooks \u001b[38;5;241m=\u001b[39m \u001b[38;5;28mset\u001b[39m()\n",
      "File \u001b[0;32m/opt/anaconda3/lib/python3.12/site-packages/torch/nn/modules/rnn.py:1136\u001b[0m, in \u001b[0;36mLSTM.forward\u001b[0;34m(self, input, hx)\u001b[0m\n\u001b[1;32m   1124\u001b[0m     result \u001b[38;5;241m=\u001b[39m _VF\u001b[38;5;241m.\u001b[39mlstm(\n\u001b[1;32m   1125\u001b[0m         \u001b[38;5;28minput\u001b[39m,\n\u001b[1;32m   1126\u001b[0m         hx,\n\u001b[0;32m   (...)\u001b[0m\n\u001b[1;32m   1133\u001b[0m         \u001b[38;5;28mself\u001b[39m\u001b[38;5;241m.\u001b[39mbatch_first,\n\u001b[1;32m   1134\u001b[0m     )\n\u001b[1;32m   1135\u001b[0m \u001b[38;5;28;01melse\u001b[39;00m:\n\u001b[0;32m-> 1136\u001b[0m     result \u001b[38;5;241m=\u001b[39m _VF\u001b[38;5;241m.\u001b[39mlstm(\n\u001b[1;32m   1137\u001b[0m         \u001b[38;5;28minput\u001b[39m,\n\u001b[1;32m   1138\u001b[0m         batch_sizes,\n\u001b[1;32m   1139\u001b[0m         hx,\n\u001b[1;32m   1140\u001b[0m         \u001b[38;5;28mself\u001b[39m\u001b[38;5;241m.\u001b[39m_flat_weights,  \u001b[38;5;66;03m# type: ignore[arg-type]\u001b[39;00m\n\u001b[1;32m   1141\u001b[0m         \u001b[38;5;28mself\u001b[39m\u001b[38;5;241m.\u001b[39mbias,\n\u001b[1;32m   1142\u001b[0m         \u001b[38;5;28mself\u001b[39m\u001b[38;5;241m.\u001b[39mnum_layers,\n\u001b[1;32m   1143\u001b[0m         \u001b[38;5;28mself\u001b[39m\u001b[38;5;241m.\u001b[39mdropout,\n\u001b[1;32m   1144\u001b[0m         \u001b[38;5;28mself\u001b[39m\u001b[38;5;241m.\u001b[39mtraining,\n\u001b[1;32m   1145\u001b[0m         \u001b[38;5;28mself\u001b[39m\u001b[38;5;241m.\u001b[39mbidirectional,\n\u001b[1;32m   1146\u001b[0m     )\n\u001b[1;32m   1147\u001b[0m output \u001b[38;5;241m=\u001b[39m result[\u001b[38;5;241m0\u001b[39m]\n\u001b[1;32m   1148\u001b[0m hidden \u001b[38;5;241m=\u001b[39m result[\u001b[38;5;241m1\u001b[39m:]\n",
      "\u001b[0;31mKeyboardInterrupt\u001b[0m: "
     ]
    }
   ],
   "source": [
    "training_history = training(train_loader,\n",
    "                            val_loader,\n",
    "                            epochs,\n",
    "                            loss_fn,\n",
    "                            model,\n",
    "                            optimizer,\n",
    "                            regularize = False)"
   ]
  },
  {
   "cell_type": "markdown",
   "id": "987c414c",
   "metadata": {},
   "source": [
    "### Evaluate Model"
   ]
  },
  {
   "cell_type": "code",
   "execution_count": null,
   "id": "d52449f7",
   "metadata": {},
   "outputs": [
    {
     "data": {
      "text/plain": [
       "BinaryClassifierLSTM(\n",
       "  (embed): Embedding(20000, 256, padding_idx=0)\n",
       "  (lstm): LSTM(256, 16, batch_first=True, bidirectional=True)\n",
       "  (dropout): Dropout(p=0.5, inplace=False)\n",
       "  (fc): Linear(in_features=32, out_features=1, bias=True)\n",
       "  (sigmoid): Sigmoid()\n",
       ")"
      ]
     },
     "execution_count": 26,
     "metadata": {},
     "output_type": "execute_result"
    }
   ],
   "source": [
    "# --- Saving ---\n",
    "# torch.save(model.state_dict(), \"weights/binaryclassifier_LSTM_model.pth\")\n",
    "\n",
    "# --- Loading ---\n",
    "# create model instance\n",
    "model = BinaryClassifierLSTM(hidden_dim = hidden_dim, \n",
    "                             vocab = vocab, \n",
    "                             embed_dim = embed_dim).to(device) \n",
    "model.load_state_dict(torch.load(\"weights/binaryclassifier_LSTM_model.pth\"))\n",
    "model.eval()   # set to eval mode for inference"
   ]
  },
  {
   "cell_type": "code",
   "execution_count": 27,
   "id": "934387ad",
   "metadata": {},
   "outputs": [
    {
     "data": {
      "text/plain": [
       "dict_keys(['train_loss', 'val_loss', 'accuracy', 'weights', 'components_loss'])"
      ]
     },
     "execution_count": 27,
     "metadata": {},
     "output_type": "execute_result"
    }
   ],
   "source": [
    "training_history['history'].keys()"
   ]
  },
  {
   "cell_type": "code",
   "execution_count": 28,
   "id": "198d30a6",
   "metadata": {},
   "outputs": [],
   "source": [
    "# np.save(data_path+f'train_su{2**qubit_number}_su{2**mod_fraction}_lay{n_layers}_ep{epochs}_lr{lr}_param{count}.npy',model_history['history']['train_loss'])\n",
    "# np.save(data_path+f'weights_su{2**qubit_number}_su{2**mod_fraction}_lay{n_layers}_ep{epochs}_lr{lr}_param{count}.npy',model_history['history']['weights'][0])"
   ]
  },
  {
   "cell_type": "code",
   "execution_count": 29,
   "id": "97ef5036",
   "metadata": {},
   "outputs": [
    {
     "data": {
      "text/plain": [
       "Text(0.5, 0, 'Epoch')"
      ]
     },
     "execution_count": 29,
     "metadata": {},
     "output_type": "execute_result"
    },
    {
     "data": {
      "image/png": "[encoded data removed]",
      "text/plain": [
       "<Figure size 500x300 with 1 Axes>"
      ]
     },
     "metadata": {},
     "output_type": "display_data"
    }
   ],
   "source": [
    "plt.figure(figsize=(5,3))\n",
    "epoch_list = [i for i in range(epochs)]\n",
    "plt.plot(epoch_list,training_history['history']['train_loss'],label= 'Train Loss',c='b')\n",
    "plt.plot(epoch_list,training_history['history']['val_loss'],label= 'Val Loss',c='r')\n",
    "plt.plot(epoch_list,training_history['history']['accuracy'], label = 'Val Acc',c='g')\n",
    "plt.legend()\n",
    "plt.title(f'Loss Landscape for {ngram_size}-grams')\n",
    "plt.ylabel('Loss/Acc')\n",
    "plt.xlabel('Epoch')\n",
    "# plt.savefig(\"loss.png\", bbox_inches=\"tight\")"
   ]
  },
  {
   "cell_type": "markdown",
   "id": "3db18f7e",
   "metadata": {},
   "source": [
    "Check Test Data\n",
    "- Confusion Matrix\n",
    "- Accuracy\n",
    "- ROC Curve\n",
    "- ROC AUC Score\n",
    "- PR AUC Curve\n",
    "- PR Score\n",
    "- F1 Score"
   ]
  },
  {
   "cell_type": "code",
   "execution_count": 30,
   "id": "0dd68f6a",
   "metadata": {},
   "outputs": [
    {
     "name": "stdout",
     "output_type": "stream",
     "text": [
      "Test Accuracy:  0.49884\n"
     ]
    }
   ],
   "source": [
    "correct_predictions = 0\n",
    "total_predictions = 0\n",
    "model.to(device)\n",
    "model.eval()\n",
    "with torch.inference_mode():\n",
    "        for batch_idx, batch in enumerate(test_loader):#tqdm(enumerate(train_loader)):\n",
    "                input_data = batch['tokens'].to(device).to(torch.float64)\n",
    "                lengths_data = batch['lengths'].to(device)\n",
    "                label_data = batch['label'].to(device).to(torch.float64).unsqueeze(1)\n",
    "                \n",
    "                predictions = (model(input_data,lengths_data)>0.5).long()\n",
    "                correct_predictions += (label_data.long()==predictions).sum().item()\n",
    "                total_predictions += label_data.shape[0]\n",
    "\n",
    "accuracy = correct_predictions / total_predictions\n",
    "print('Test Accuracy: ', accuracy)"
   ]
  },
  {
   "cell_type": "code",
   "execution_count": 31,
   "id": "c154f9d0",
   "metadata": {},
   "outputs": [
    {
     "name": "stdout",
     "output_type": "stream",
     "text": [
      "              precision    recall  f1-score   support\n",
      "\n",
      "         0.0     0.4500    0.0058    0.0114     12500\n",
      "         1.0     0.4997    0.9930    0.6648     12500\n",
      "\n",
      "    accuracy                         0.4994     25000\n",
      "   macro avg     0.4748    0.4994    0.3381     25000\n",
      "weighted avg     0.4748    0.4994    0.3381     25000\n",
      "\n"
     ]
    },
    {
     "data": {
      "text/plain": [
       "<Figure size 500x400 with 0 Axes>"
      ]
     },
     "metadata": {},
     "output_type": "display_data"
    },
    {
     "data": {
      "image/png": "[encoded data removed]",
      "text/plain": [
       "<Figure size 640x480 with 2 Axes>"
      ]
     },
     "metadata": {},
     "output_type": "display_data"
    },
    {
     "data": {
      "text/plain": [
       "<Figure size 500x400 with 0 Axes>"
      ]
     },
     "metadata": {},
     "output_type": "display_data"
    },
    {
     "data": {
      "image/png": "[encoded data removed]",
      "text/plain": [
       "<Figure size 640x480 with 1 Axes>"
      ]
     },
     "metadata": {},
     "output_type": "display_data"
    },
    {
     "data": {
      "text/plain": [
       "<Figure size 500x400 with 0 Axes>"
      ]
     },
     "metadata": {},
     "output_type": "display_data"
    },
    {
     "data": {
      "image/png": "[encoded data removed]",
      "text/plain": [
       "<Figure size 640x480 with 1 Axes>"
      ]
     },
     "metadata": {},
     "output_type": "display_data"
    },
    {
     "name": "stdout",
     "output_type": "stream",
     "text": [
      "Best threshold by F1: 0.43 F1: 0.6667377853637722\n"
     ]
    }
   ],
   "source": [
    "y_true, y_pred, y_probs = outputs(model, test_loader, device=device)\n",
    "metrics = compute_metrics(y_true, y_pred, y_probs)\n",
    "print(metrics['report'])\n",
    "plot_confusion_matrix(y_true, y_pred, normalize=None)   # or normalize='true'\n",
    "# plt.savefig(\"confusion.png\", bbox_inches=\"tight\")\n",
    "plot_roc_curve(y_true, y_probs)\n",
    "# plt.savefig(\"roc.png\", bbox_inches=\"tight\")\n",
    "plot_precision_recall(y_true, y_probs)\n",
    "# plt.savefig(\"precisionrecall.png\", bbox_inches=\"tight\")\n",
    "best_t, best_f1, sweep = threshold_sweep(y_true, y_probs)\n",
    "print(\"Best threshold by F1:\", best_t, \"F1:\", best_f1)"
   ]
  },
  {
   "cell_type": "markdown",
   "id": "71aabdb8",
   "metadata": {},
   "source": [
    "## Sequence-to-sequence learning"
   ]
  },
  {
   "cell_type": "markdown",
   "id": "a3503a00",
   "metadata": {},
   "source": [
    "### 11.5 Beyond text classification: Sequence-to-sequence learning\n",
    "\n",
    "- Takes a sequeence as input and returns a new sequence]\n",
    "- Successful applications\n",
    "    - Machine translation\n",
    "    - Text summarization\n",
    "    - Question answering\n",
    "    - Chatbots\n",
    "    - Text generation\n",
    "\n",
    "- During training\n",
    "    - encoder: turns source sequence into an intermediate representation\n",
    "    - decoder: predicts the next token $i$ in the target sequence by looking at both previous tokens $(0$ to $i-1)$ and encoded source sequence\n",
    "\n",
    "- During inference\n",
    "    - No access to the target sequence, generate it one token at a time\n",
    "    - Encoded source seuqence from the encoder\n",
    "    - Decoder looks at encoded source sequence and an initial \"seed\" token such as \"[start]\" to predict the first real token\n",
    "    - Predicted sequence so far is sent back into the decoder to generate the next token until generating a stop token such as \"[end]\""
   ]
  },
  {
   "cell_type": "markdown",
   "id": "94373f37",
   "metadata": {},
   "source": [
    "11.5.1 A machine translation example\n",
    "\n",
    "- Grated Recurrent Unit (GRU)\n",
    "    - Type of RNN\n",
    "    - Ignores unimportant features\n",
    "    - No context variable"
   ]
  },
  {
   "cell_type": "code",
   "execution_count": null,
   "id": "66c1e5ea",
   "metadata": {},
   "outputs": [],
   "source": [
    "# text_file = 'data/datasets/spa-eng/spa.txt'\n",
    "# with open(text_file) as f:\n",
    "#     lines = f.read().split(\"\\n\")[:-1]\n",
    "# text_pairs = []\n",
    "# for line in lines:\n",
    "#     english, spanish = line.split('\\t')\n",
    "#     spanish = \"[start] \" + spanish + \" [end]\"\n",
    "#     text_pairs.append(english,spanish)\n",
    "\n",
    "# # import random\n",
    "# # print(random.choice(text_pairs))\n",
    "\n",
    "# # Create train, val, anbd test samples\n",
    "# import random\n",
    "# random.seed(0)\n",
    "# random.shuffle(text_pairs)\n",
    "# num_val_samples = int(0.15*len(text_pairs))\n",
    "# num_train_samples = len(text_pairs) - 2*num_val_samples\n",
    "# train_pairs = text_pairs[:num_train_samples]\n",
    "# val_pairs = text_pairs[num_train_samples:num_train_samples+num_val_samples]\n",
    "# test_pairs = text_pairs[num_train_samples+num_val_samples:]\n",
    "\n",
    "# English standardizer\n",
    "# import tensorflow as tf\n",
    "# import string\n",
    "# import re\n",
    "# def english_standardize(input_string):\n",
    "#     # Lowercase\n",
    "#     text = input_string.lower()\n",
    "#     # Remove punctuation (keep only letters, numbers, spaces)\n",
    "#     text = re.sub(r\"[^a-z0-9\\s]\", \"\", text)\n",
    "#     return {\"text\": text}\n",
    "\n",
    "# strip_chars = string.puncuation + \"¿\"\n",
    "# strip_chars = strip_chars.replace(\"[\",'')\n",
    "# strip_chars = strip_chars.replace(']',\"\")\n",
    "# # Spanish standardizer, need to keep [ and ] around the [start] and [end] tokens to differentiate between the words start and end\n",
    "# def spanish_standardize(input_string):\n",
    "#     lowercase = tf.strings.lower()\n",
    "#     return tf.strings.regex_replace(lowercase, f'[{re.escape(strip_chars)}]','')\n",
    "\n",
    "# def tokenize(batch,ngram_size):\n",
    "#     if ngram_size==1:\n",
    "#         return {\"tokens\": batch[\"text\"].split()}\n",
    "#     else:\n",
    "#         tokens = batch[\"text\"].split()\n",
    "#         ngrams = []\n",
    "#         for i,token in enumerate(tokens):\n",
    "#             for j in range(0,ngram_size,1):\n",
    "#                 if i+j+1<len(tokens)-1:\n",
    "#                     ngrams.append( \" \".join(tokens[i:i+j+1]) )\n",
    "#         return {\"tokens\": ngrams}\n",
    "\n",
    "\n",
    "# def create_vocab(dataset,tokenizer,maximum_words_in_vocab):\n",
    "#     # Build a list of all posible words (tokens)\n",
    "#     train_tokens_list = []\n",
    "#     max_seq_length = 0\n",
    "#     for sample in dataset[\"train\"].map(tokenizer, batched=False):\n",
    "#         train_tokens_list.append(sample[\"tokens\"])\n",
    "#         if len(sample[\"tokens\"])>max_seq_length:\n",
    "#             max_seq_length = len(sample[\"tokens\"])\n",
    "\n",
    "#     # Build a dictionary ordered by word frequency\n",
    "#     counter = Counter(token for tokens in train_tokens_list for token in tokens)\n",
    "\n",
    "#     # Build vocab dictionary with at most 20k of the most frequent\n",
    "#     vocab = {\"<pad>\": 0, \"<unk>\": 1}\n",
    "#     for i, word in enumerate(counter.keys(), start=2):\n",
    "#         if i>=maximum_words_in_vocab:\n",
    "#             break\n",
    "#         vocab[word] = [i,counter[word]]\n",
    "#     return vocab, max_seq_length\n",
    "\n",
    "# class VecFuncs():\n",
    "#     def __init__(self, vocabulary):\n",
    "#         self.vocab = vocabulary\n",
    "\n",
    "#     def vectorize_fn_multihot(self,tokens):\n",
    "#         temp_list = [0]*len(self.vocab)\n",
    "#         for token in tokens:\n",
    "#             temp_list[self.vocab.get(token,(1,1))[0]] = 1\n",
    "#         return temp_list\n",
    "\n",
    "#     # Term Frequency- Inverse Document Frequency Normalization\n",
    "#     def vectorize_fn_tf_idf(self,tokens):\n",
    "#         temp_list = [0]*len(self.vocab)\n",
    "#         for token in tokens:\n",
    "#             temp_list[self.vocab.get(token,(1,1))[0]] = self.td_idf(token,tokens)\n",
    "#         return temp_list\n",
    "\n",
    "#     # Function to map tokens → IDs (vectors)\n",
    "#     def vectorize_fn(self,tokens):\n",
    "#         return [self.vocab.get(token,(1,1))[0] for token in tokens]\n",
    "\n",
    "#     def td_idf(self, term, tokens):\n",
    "#         term_freq = tokens.count(term)\n",
    "#         doc_freq = math.log(float(self.vocab.get(term,(1,1))[1])+1.)\n",
    "#         return term_freq / doc_freq\n",
    "\n",
    "# def collate_fn(batch,vocab,vect_function):\n",
    "#     # for each sample in the batch, take the tokens and vectorize them based on the dictionary\n",
    "#     token_ids = [torch.tensor(vect_function(item[\"tokens\"])) for item in batch]\n",
    "#     # Compute true lengths before padding\n",
    "#     lengths = torch.tensor([len(seq) for seq in token_ids])\n",
    "#     # create a label tensor\n",
    "#     labels = torch.tensor([item[\"label\"] for item in batch])\n",
    "\n",
    "#     # Pad sequences in the batch\n",
    "#     token_ids_padded = pad_sequence(token_ids, \n",
    "#                                     batch_first=True, # puts the batch dimension as first one in shape, rather than longest sequence length\n",
    "#                                     padding_value=vocab[\"<pad>\"]) # pad with 0s\n",
    "\n",
    "#     return {\"tokens\": token_ids_padded, \"lengths\": lengths, \"label\": labels}\n",
    "\n",
    "# maximum_words_in_vocab = 15000\n",
    "# train_english_texts = [english_standardize(pair[0]) for pair in train_pairs]\n",
    "# train_spanish_texts = [spanish_standardize(pair[1]) for pair in train_pairs]\n",
    "# ngram_size=1\n",
    "# tokenizer = partial(tokenize, ngram_size = ngram_size)\n",
    "# source_vocab, max_eng_seq = create_vocab(train_english_texts,tokenizer,maximum_words_in_vocab)\n",
    "# target_vocab, max_spa_seq = create_vocab(train_spanish_texts,tokenizer,maximum_words_in_vocab)\n",
    "\n",
    "# # Apply tokenization\n",
    "# train_english_tokens = train_english_texts.map(tokenizer, batched=False)\n",
    "# train_spanish_tokens = train_spanish_texts.map(tokenizer, batched=False)\n",
    "\n",
    "# source_vectorizer = VecFuncs(source_vocab).vectorize_fn\n",
    "# target_vectorizer = VecFuncs(target_vocab).vectorize_fn\n",
    "# train_english_vecs = [source_vectorizer(tokens) for tokens in train_english_tokens]\n",
    "# train_spanish_vecs = []\n",
    "# for tokens in train_spanish_tokens:\n",
    "#     train_spanish_vecs.append([0].append(target_vectorizer(tokens))) # add one to each sequence length\n",
    "\n",
    "# batch_size = 64\n",
    "\n",
    "# def format_dataset(eng,spa):\n",
    "#     eng = train_english_vecs # source_vectorization(eng)\n",
    "#     spa = train_spanish_vecs # target_vectorization(spa)\n",
    "#     return ({'english':eng, 'spanish':spa[:,-1]}, spa[:,1:])\n",
    "\n",
    "# def make_dataset(pairs):\n",
    "#     eng_texts,spa_tests = zip(*pairs)\n",
    "#     eng_texts = list(eng_texts)\n",
    "#     spa_texts = list(spa_texts)\n",
    "#     dataset = tf.data.Dataset.from_tensor_slices((eng_texts,spa_texts))\n",
    "#     dataset = dataset.batch(batch_size)\n",
    "#     dataset = dataset.map(format_dataset, num_parallel_calls = 4)\n",
    "#     return dataset.shuffle(0).prefetch(16).cache()\n",
    "\n",
    "# train_ds = make_dataset(train_pairs)\n",
    "# val_ds = make_dataset(val_pairs)\n",
    "\n",
    "\n",
    "# Test data and Translate new sentences\n",
    "# import numpy as np\n",
    "# spa_index_lookup = dict(zip( range(len(target_vocab)), target_vocab))\n",
    "# max_decoded_sentence_length = 20\n",
    "# def decode_sequence(input_sentences):\n",
    "#     tokenized_input_sentence = source_vectorization([input_sentences])\n",
    "#     decoded_sentence = 'start'\n",
    "#     for i in range(max_decoded_sentence_length):\n",
    "#         tokenized_target_sentence = target_vectorization([decoded_sentence])\n",
    "#         next_token_predictions = seq2seq_rnn.predict([tokenized_input_sentences, tokenized_target_sentence])\n",
    "#         sampled_token_index = np.argmax(next_token_predictions[0,i,:])\n",
    "#         sampled_token = spa_index_lookup[sampled_token_index]\n",
    "#         decoded_sentence += \" \" + sampled_token\n",
    "#         if sampled_token==\"end\":\n",
    "#             break\n",
    "#     return decoded_sentence\n",
    "\n",
    "# test_eng_texts = [pair[0] for pair in test_pairs]\n",
    "# for _ in range(20):\n",
    "#     input_sentence = random.choice(test_eng_texts)\n",
    "#     print('-')\n",
    "#     print('English: ',input_sentence)\n",
    "#     print('Spanish: ',decode_sequence(input_sentence))\n",
    "\n",
    "\n",
    "# class Seq2SeqRNN(nn.Module):\n",
    "#     def __init__(self, input_size, hidden_dim, vocab_size):\n",
    "#         super(Seq2SeqRNN, self).__init__()\n",
    "#         self.vocab_size = vocab_size\n",
    "#         # self.embed = OneHot(num_embeddings=len(vocab))  # or nn.Embedding # make embed size len(vocab)\n",
    "#         self.source_embed = nn.Embedding(num_embeddings=vocab_size, embedding_dim=embed_dim, padding_idx=vocab[\"<pad>\"], mask_zero = True) # change embed_size\n",
    "#         self.past_target_embed = nn.Embedding(num_embeddings=vocab_size, embedding_dim=embed_dim, padding_idx=vocab[\"<pad>\"], mask_zero = True)\n",
    "#         self.gru_encoder = nn.GRU(input_size = input_size, hidden_size = hidden_dim, num_layers=1, bias=True, batch_first=True, bidirectional=True)\n",
    "#         self.gru_decoder = nn.GRU(input_size = hidden_dim, hidden_size = hidden_dim, num_layers=1, bias=True, batch_first=True, bidirectional=False)\n",
    "#         self.dropout = nn.Dropout(p=0.5)\n",
    "#         self.fc = nn.Linear(in_features = hidden_dim, out_features = vocab_size, bias = True, dtype = torch.float64)\n",
    "#         self.softmax = nn.Softmax()\n",
    "\n",
    "\n",
    "#     def forward(self, source, past_target): # lengths not needed in original model\n",
    "#         # x1: [batch, seq] LongTensor\n",
    "#         x = self.source_embed(source)\n",
    "#         encoded_source = self.gru_encoder(x)\n",
    "#         encoded_past_target = self.past_target_embed(past_target)\n",
    "#         x = self.gru_decoder(encoded_past_target, initial_state = encoded_source)\n",
    "#                # unpack\n",
    "#         unpacked, _ = pad_packed_sequence(x, batch_first=True)  # [batch, max_len, 2*hidden_dim]\n",
    "#         # mask for mean pooling\n",
    "#         mask = (torch.arange(unpacked.size(1), device=lengths.device)[None, :] < lengths[:, None]).unsqueeze(-1)\n",
    "#         masked_out = unpacked * mask\n",
    "#         pooled = masked_out.sum(dim=1) / lengths.unsqueeze(1)\n",
    "#         out = self.dropout(pooled)\n",
    "#         # out = self.dropout(last_hidden)\n",
    "#         out = self.fc(out)\n",
    "#         # logits w/o sigmoid\n",
    "#         return self.softmax(out)\n",
    "    \n",
    "# # How the model needs to be initialized\n",
    "# seq2seq_rnn = Seq2SeqRNN([source,past_target], target_next_step)\n",
    "# loss_fn = nn.CrossEntropyLoss()"
   ]
  },
  {
   "cell_type": "code",
   "execution_count": 3,
   "id": "4bcbf8d8",
   "metadata": {},
   "outputs": [],
   "source": [
    "'''\n",
    "Process data\n",
    "'''\n",
    "from utils_seq2seq import *\n",
    "# load text file, create pairs, standardize\n",
    "text_file = 'data/datasets/spa-eng/spa.txt'\n",
    "pairs = []\n",
    "with open(text_file, 'r', encoding='utf-8') as f:\n",
    "    for line in f:\n",
    "        line = line.strip()\n",
    "        if not line:\n",
    "            continue\n",
    "        parts = line.split(\"\\t\")\n",
    "        if len(parts) < 2:\n",
    "            continue\n",
    "        en, es = parts[0], parts[1]\n",
    "        pairs.append((english_standardize(en), \"[start] \"+spanish_standardize(es)+\" [end]\"))\n",
    "\n",
    "# shuffle + split\n",
    "random.seed(0)\n",
    "random.shuffle(pairs)\n",
    "n = len(pairs)\n",
    "n_val = int(0.15 * n)\n",
    "n_test = n_val\n",
    "n_train = n - n_val - n_test\n",
    "train_pairs = pairs[:n_train]\n",
    "val_pairs = pairs[n_train:n_train+n_val]\n",
    "test_pairs = pairs[n_train+n_val:]\n",
    "\n",
    "# Tokenize\n",
    "train_source_tokens = [tokenize_text(p[0]) for p in train_pairs]\n",
    "train_target_tokens = [tokenize_text(p[1]) for p in train_pairs]\n",
    "\n",
    "max_seq_length = find_max_seq_length(train_source_tokens+train_target_tokens)\n",
    "\n",
    "# Index\n",
    "max_vocab_size = 15000\n",
    "min_word_freq = 1\n",
    "source_vocab, source_inv = build_vocab(train_source_tokens, max_size=max_vocab_size, min_freq=min_word_freq)\n",
    "target_vocab, target_inv = build_vocab(train_target_tokens, max_size=max_vocab_size, min_freq=min_word_freq)\n",
    "\n",
    "pad_idx_source = source_vocab[\"<pad>\"]\n",
    "pad_idx_target = target_vocab[\"<pad>\"]\n",
    "unk_idx_target = target_vocab[\"<unk>\"]\n",
    "\n",
    "train_dataset = TranslationDataset(train_pairs, source_vocab, target_vocab)\n",
    "val_dataset = TranslationDataset(val_pairs, source_vocab, target_vocab)\n",
    "test_dataset = TranslationDataset(test_pairs, source_vocab, target_vocab)\n",
    "\n",
    "collate_function = partial(collate_seq2seq, source_pad_idx=pad_idx_source, target_pad_idx=pad_idx_target)\n",
    "\n",
    "batch_size = 64\n",
    "train_loader = DataLoader(train_dataset, \n",
    "                          batch_size=batch_size, \n",
    "                          shuffle=True,\n",
    "                          collate_fn=collate_function)\n",
    "val_loader   = DataLoader(val_dataset, \n",
    "                          batch_size=batch_size, \n",
    "                          shuffle=False,\n",
    "                          collate_fn=collate_function)"
   ]
  },
  {
   "cell_type": "code",
   "execution_count": 42,
   "id": "a21001f5",
   "metadata": {},
   "outputs": [],
   "source": [
    "epochs = 15\n",
    "model = Seq2SeqGRU(source_vocab_size = len(source_vocab), \n",
    "                   target_vocab_size = len(target_vocab), \n",
    "                   embed_dim=128, \n",
    "                   enc_hidden=128, \n",
    "                   dec_hidden=128,\n",
    "                   pad_idx_source=pad_idx_source, \n",
    "                   pad_idx_target=pad_idx_target).to(device)\n",
    "optimizer = torch.optim.Adam(model.parameters(), lr=1e-3)\n",
    "loss_fn = nn.CrossEntropyLoss(ignore_index=pad_idx_target)\n"
   ]
  },
  {
   "cell_type": "code",
   "execution_count": 43,
   "id": "728dc626",
   "metadata": {},
   "outputs": [
    {
     "name": "stdout",
     "output_type": "stream",
     "text": [
      "Number of Parameters:  5836314\n"
     ]
    }
   ],
   "source": [
    "number_of_parameters = 0\n",
    "for i,params in enumerate(model.parameters()):\n",
    "  number_of_parameters += params.flatten().shape[0]\n",
    "print('Number of Parameters: ', number_of_parameters)"
   ]
  },
  {
   "cell_type": "code",
   "execution_count": 44,
   "id": "5e3e364d",
   "metadata": {},
   "outputs": [
    {
     "data": {
      "text/plain": [
       "============================================================================================================================================\n",
       "Layer (type:depth-idx)                   Input Shape               Output Shape              Param #                   Trainable\n",
       "============================================================================================================================================\n",
       "Seq2SeqGRU                               [64, 20]                  [64, 9, 15002]            --                        True\n",
       "├─Embedding: 1-1                         [64, 20]                  [64, 20, 128]             1,650,688                 True\n",
       "├─GRU: 1-2                               [311, 128]                [311, 256]                198,144                   True\n",
       "├─Linear: 1-3                            [64, 256]                 [64, 128]                 32,896                    True\n",
       "├─Embedding: 1-4                         [64, 20]                  [64, 20, 128]             1,920,256                 True\n",
       "├─GRU: 1-5                               [330, 128]                [330, 128]                99,072                    True\n",
       "├─Linear: 1-6                            [64, 9, 128]              [64, 9, 15002]            1,935,258                 True\n",
       "============================================================================================================================================\n",
       "Total params: 5,836,314\n",
       "Trainable params: 5,836,314\n",
       "Non-trainable params: 0\n",
       "Total mult-adds (Units.GIGABYTES): 20.31\n",
       "============================================================================================================================================\n",
       "Input size (MB): 0.02\n",
       "Forward/backward pass size (MB): 145.58\n",
       "Params size (MB): 46.69\n",
       "Estimated Total Size (MB): 192.29\n",
       "============================================================================================================================================"
      ]
     },
     "execution_count": 44,
     "metadata": {},
     "output_type": "execute_result"
    }
   ],
   "source": [
    "torchinfo.summary(model, \n",
    "                  input_data=[torch.randint(0,len(source_vocab),(batch_size,20)), \n",
    "                              torch.randint(1,10,(batch_size,)), \n",
    "                              torch.randint(0,len(target_vocab),(batch_size,20)),\n",
    "                              torch.randint(1,10,(batch_size,)) ],\n",
    "                  col_names=[\"input_size\", \"output_size\", \"num_params\", \"trainable\"],\n",
    "                  depth=3 )"
   ]
  },
  {
   "cell_type": "code",
   "execution_count": 45,
   "id": "d889b9ee",
   "metadata": {},
   "outputs": [
    {
     "name": "stdout",
     "output_type": "stream",
     "text": [
      "Epoch 1 | Train Loss: 4.5720 | Val Loss: 3.5693 | Best Val Loss: 3.5693\n",
      "Epoch 2 | Train Loss: 3.2362 | Val Loss: 2.9987 | Best Val Loss: 2.9987\n",
      "Epoch 3 | Train Loss: 2.6835 | Val Loss: 2.7061 | Best Val Loss: 2.7061\n",
      "Epoch 4 | Train Loss: 2.3147 | Val Loss: 2.5261 | Best Val Loss: 2.5261\n",
      "Epoch 5 | Train Loss: 2.0425 | Val Loss: 2.4167 | Best Val Loss: 2.4167\n",
      "Epoch 6 | Train Loss: 1.8298 | Val Loss: 2.3609 | Best Val Loss: 2.3609\n",
      "Epoch 7 | Train Loss: 1.6606 | Val Loss: 2.3171 | Best Val Loss: 2.3171\n",
      "Epoch 8 | Train Loss: 1.5195 | Val Loss: 2.2986 | Best Val Loss: 2.2986\n",
      "Epoch 9 | Train Loss: 1.4010 | Val Loss: 2.2932 | Best Val Loss: 2.2932\n",
      "Epoch 10 | Train Loss: 1.3004 | Val Loss: 2.3004 | Best Val Loss: 2.2932\n",
      "Epoch 11 | Train Loss: 1.2126 | Val Loss: 2.3104 | Best Val Loss: 2.2932\n",
      "Epoch 12 | Train Loss: 1.1374 | Val Loss: 2.3285 | Best Val Loss: 2.2932\n",
      "Epoch 13 | Train Loss: 1.0708 | Val Loss: 2.3509 | Best Val Loss: 2.2932\n",
      "Epoch 14 | Train Loss: 1.0128 | Val Loss: 2.3694 | Best Val Loss: 2.2932\n",
      "Epoch 15 | Train Loss: 0.9596 | Val Loss: 2.3998 | Best Val Loss: 2.2932\n",
      "Training Complete. Total Time (s): 2880.10\n"
     ]
    }
   ],
   "source": [
    "training_history = training_seq2seq(train_loader,\n",
    "                                        val_loader,\n",
    "                                        epochs,\n",
    "                                        loss_fn,\n",
    "                                        model,\n",
    "                                        optimizer,\n",
    "                                        regularize=False)"
   ]
  },
  {
   "cell_type": "markdown",
   "id": "6ec1857d",
   "metadata": {},
   "source": [
    "### Evaluate Model"
   ]
  },
  {
   "cell_type": "code",
   "execution_count": 46,
   "id": "fa584703",
   "metadata": {},
   "outputs": [
    {
     "data": {
      "text/plain": [
       "Seq2SeqGRU(\n",
       "  (source_embed): Embedding(12896, 128, padding_idx=0)\n",
       "  (target_embed): Embedding(15002, 128, padding_idx=0)\n",
       "  (encoder): GRU(128, 64, batch_first=True, bidirectional=True)\n",
       "  (decoder): GRU(128, 64, batch_first=True)\n",
       "  (enc_to_dec): Linear(in_features=128, out_features=64, bias=True)\n",
       "  (out_proj): Linear(in_features=64, out_features=15002, bias=True)\n",
       ")"
      ]
     },
     "execution_count": 46,
     "metadata": {},
     "output_type": "execute_result"
    }
   ],
   "source": [
    "# --- Saving ---\n",
    "# torch.save(model.state_dict(), \"weights/Seq2SeqGRU.pth\")\n",
    "\n",
    "# --- Loading ---\n",
    "# create model instance\n",
    "model = Seq2SeqGRU(source_vocab_size = len(source_vocab), \n",
    "                   target_vocab_size = len(target_vocab), \n",
    "                   embed_dim=128, \n",
    "                   enc_hidden=64, \n",
    "                   dec_hidden=64,\n",
    "                   pad_idx_source=pad_idx_source, \n",
    "                   pad_idx_target=pad_idx_target).to(device) \n",
    "model.load_state_dict(torch.load(\"weights/Seq2SeqGRU.pth\"))\n",
    "model.eval() "
   ]
  },
  {
   "cell_type": "code",
   "execution_count": 47,
   "id": "83b4c0b2",
   "metadata": {},
   "outputs": [],
   "source": [
    "def greedy_decode(model, source_seq, source_len, target_vocab, max_len=50):\n",
    "    model.eval()\n",
    "\n",
    "    start_idx = target_vocab[\"[start]\"]\n",
    "    end_idx = target_vocab[\"[end]\"]\n",
    "    with torch.inference_mode():\n",
    "        source = torch.tensor(source_seq, dtype=torch.long).unsqueeze(0).to(device)  # [1, source_len]\n",
    "        source_lens = torch.tensor([source_len], dtype=torch.long).to(device)\n",
    "        dec_init, _ = model.encode(source, source_lens)  # [1,1,dec_hidden]\n",
    "        # start token\n",
    "        cur_input = torch.tensor([[start_idx]], dtype=torch.long).to(device)  # [1,1]\n",
    "        generated = []\n",
    "        hidden = dec_init\n",
    "        for t in range(max_len):\n",
    "            embedded = model.target_embed(cur_input)  # [1,1,embed]\n",
    "            out, hidden = model.decoder(embedded, hidden)  # out: [1,1,dec_hidden]\n",
    "            logits = model.out_proj(out.squeeze(1))  # [1, V]\n",
    "            next_id = torch.argmax(logits, dim=-1).item()\n",
    "            if next_id == end_idx:\n",
    "                break\n",
    "            generated.append(next_id)\n",
    "            cur_input = torch.tensor([[next_id]], dtype=torch.long).to(device)\n",
    "        return [i for i in generated]  # convert ids -> tokens"
   ]
  },
  {
   "cell_type": "code",
   "execution_count": 48,
   "id": "1462b007",
   "metadata": {},
   "outputs": [],
   "source": [
    "ex_length = len(test_dataset.__getitem__(0)['source'])\n",
    "source_seq = test_dataset.__getitem__(0)[\"source\"]   # list of token IDs\n",
    "target = greedy_decode(model, \n",
    "                        source_seq=source_seq, \n",
    "                        source_len=torch.tensor(len(test_dataset.__getitem__(0)['source'])).reshape(1,1), \n",
    "                        target_vocab = target_vocab, \n",
    "                        max_len=max_seq_length)"
   ]
  },
  {
   "cell_type": "code",
   "execution_count": 49,
   "id": "f0707b6a",
   "metadata": {},
   "outputs": [],
   "source": [
    "def convert_token_ids(token_idxs,vocab_inv):\n",
    "    true_list = []\n",
    "    for idx in token_idxs:\n",
    "        if vocab_inv[idx] not in {\"[start]\",\"[end]\"}:\n",
    "            true_list.append(vocab_inv[idx])\n",
    "    return ' '.join(true_list)"
   ]
  },
  {
   "cell_type": "code",
   "execution_count": 50,
   "id": "caa85340",
   "metadata": {},
   "outputs": [
    {
     "name": "stdout",
     "output_type": "stream",
     "text": [
      "True Source:  ill call him tonight\n",
      "True Target:  la llamaré por teléfono esta noche\n",
      "Pred Target:  judío orador 110 ciruelo decírnoslo irritado sugerir cantina aviso cerrojo siguiente rescate enorme poderse carpa decidiera adivina modesto milagro habláis meca piense celebridad hablaría consiga propósito conseguí desearías teresa picas inyección déjelo madrugar olvidarme hembra creo ¿desperté «sí» detener salirse vaca tartamudo anonadado esperaremos leyes aumentar correo correo confiables renunció ponlo sírvete sírvete pierde perdóneme\n"
     ]
    }
   ],
   "source": [
    "true_source = convert_token_ids(token_idxs=test_dataset.__getitem__(0)['source'],\n",
    "                  vocab_inv=source_inv)\n",
    "true_target = convert_token_ids(token_idxs=test_dataset.__getitem__(0)['target'],\n",
    "                  vocab_inv=target_inv)\n",
    "pred_target = convert_token_ids(token_idxs=target,\n",
    "                  vocab_inv=target_inv)\n",
    "\n",
    "print('True Source: ', true_source)\n",
    "print('True Target: ', true_target)\n",
    "print('Pred Target: ', pred_target)"
   ]
  },
  {
   "cell_type": "markdown",
   "id": "df1166d3",
   "metadata": {},
   "source": [
    "Issues with RNN approach\n",
    "\n",
    "- Source representation entirely in encoder state vectors which limits size and complexity of sentences you can translate\n",
    "- RNN struggle to deal with logn sequences as they forget about the past, cannot holdonto long term context"
   ]
  },
  {
   "cell_type": "markdown",
   "id": "50f56199",
   "metadata": {},
   "source": []
  }
 ],
 "metadata": {
  "kernelspec": {
   "display_name": "base",
   "language": "python",
   "name": "python3"
  },
  "language_info": {
   "codemirror_mode": {
    "name": "ipython",
    "version": 3
   },
   "file_extension": ".py",
   "mimetype": "text/x-python",
   "name": "python",
   "nbconvert_exporter": "python",
   "pygments_lexer": "ipython3",
   "version": "3.12.7"
  }
 },
 "nbformat": 4,
 "nbformat_minor": 5
}
