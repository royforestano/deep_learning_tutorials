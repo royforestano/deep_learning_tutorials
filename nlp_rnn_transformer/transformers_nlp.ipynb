{
 "cells": [
  {
   "cell_type": "markdown",
   "id": "ee666f52",
   "metadata": {},
   "source": [
    "# Transformers \n",
    "\n",
    "for Natural Language Processing\n",
    "\n",
    "Author: Roy T. Forestano\n",
    "\n",
    "Began: 23 September 2025\n",
    "\n",
    "Notes from the book Deep Learning with Python by Francois Chollet. Code suggested but modified considerably and written in PyTorch as opposed to Keras, as in the text."
   ]
  },
  {
   "cell_type": "markdown",
   "id": "8bf641c6",
   "metadata": {},
   "source": [
    "### 11.4 The Transformer Architecture\n",
    "\n",
    " - Introduced in 2017 by Vaswani et al. in Attention is all you need: https://arxiv.org/abs/1706.03762\n",
    " - Neural attention mechanism for sequence models\n",
    "  Revolution in NLP and beyond\n",
    "\n",
    "11.4.1 Understanding self-attention\n",
    "\n",
    "- Not all input information seen by a model is equally important to the task at hand\n",
    "- Pay more attention to some features and less to others\n",
    "    - Example 1: Max pooling in convnets keeps the most important value\n",
    "    - Example 2: TF-IDF assigns importance scores to tokens\n",
    "- Attention starts by computing importance scores:\n",
    "    - Higher scores for relevant features\n",
    "    - Lower scores for less relevant ones\n",
    "    - Also has the ability to make features *context aware*\n",
    "- Self-attention\n",
    "    - Words can change meaning depending on context\n",
    "    - Provides a different vector representation for a word depending on the other words surrounding it\n",
    "    - Modulates the representation of a token by using the representations of related tokens in the sequence\n",
    "    - But ignores word order, only aware of cross-word interactions (need positional encoding)\n",
    "\n",
    "- Step 1: Compute relevancy scores between each word and the other words through dot products (covariance, A@A.T, $A_{ij}A_{jk}^T$)\n",
    "    - In practice, also apply a scaling function and softmax\n",
    "- Step 2: weighted sum of all word vectors forms new word vector for each word $softmax(A_{ij}A_{jk}^T)/\\sqrt{D} A_{kl}$\n",
    "\n",
    "\n",
    "|  | Word order awareness | Context awareness (cross-word interactions) |\n",
    "| --- | --- | --- |\n",
    "| Bag of unigrams| No | No |\n",
    "| Bag of bigrams| Very limited | No |\n",
    "| RNN | Yes | No |\n",
    "| Self-attention | No| Yes |\n",
    "| Transformer | Yes | Yes |\n",
    "\n"
   ]
  },
  {
   "cell_type": "code",
   "execution_count": null,
   "id": "2c60355c",
   "metadata": {},
   "outputs": [],
   "source": [
    "'''\n",
    "def self_attention(inputs):\n",
    "    # inputs.shape = (# words/tokens, embed dim)\n",
    "    scores = softmax(inputs@inputs.T/np.sqrt(inputs.shape[1]))\n",
    "    return scores@inputs\n",
    "'''"
   ]
  },
  {
   "cell_type": "markdown",
   "id": "968e8da6",
   "metadata": {},
   "source": [
    "Generalized Self-Attention: The Query-Key-Value Model\n",
    "\n",
    "so far\n",
    "\n",
    "$outputs = sum(pairwise score(inputs_{A}, inputs_{B})*inputs_{C})$\n",
    "\n",
    "which reads for each input $A$, compute how much the token is related to every token in $B$, and use these scores to weight a sum of tokens from inputs $C$. \n",
    "\n",
    "- There is no requirement that A,B,C need to be the same input sequence\n",
    "- A: query\n",
    "- B: key\n",
    "- C: value\n",
    "- A,B,C trainable (A for hidden dim only, I imagine)\n",
    "- Terminology comes from search engines and recommender systems\n",
    "\n",
    "We now have for each element in the query, compute how much the element is related to every key, and use these scores to weight a sum of values\n",
    "\n",
    "$outputs = sum(pairwise score(query, key)*value)$\n",
    "\n",
    "\n",
    "The logic\n",
    "- Query: reference seuqnece which describes something you are looking for\n",
    "- Key: key describes values in the format which can be compared to the query\n",
    "- Value: body of knowledge you want to extract information from\n",
    "- Match query to keys and return a weighted sum of values\n",
    "\n",
    "Notes\n",
    "- Keys and values often the same sequence\n",
    "- Machine translation: query is the target sequence, source would be keys and values\n",
    "- Sequence classification: query, keys, values all same (comapring sequence to itself to enrich each token with context from the whole sequence)\n"
   ]
  },
  {
   "cell_type": "markdown",
   "id": "575e2505",
   "metadata": {},
   "source": [
    "11.4.2 Multi-head attention\n",
    "\n",
    "- output space of the self-attention layer gets factored into a set of independent subspaces (heads), learned separatelty\n",
    "- initial query, key, and value are sent through three independent sets of dense projections (learnable), resulting in three separate vectors\n",
    "- each vector is processed via neural attention \n",
    "- three outputs are concatenated back together into a single output sequence\n",
    "- Each subspace is called a head\n",
    "\n",
    "- Learnable dense projections enable training rather than being a stateless transformation which would require additional layers before or after it\n",
    "- Independent heads helps the layer learn different groups of features for each token\n",
    "    - Feature in one group correlated\n",
    "    - Independent from features in a different group\n",
    "- Factoring feature spaces into independent subspaces\n",
    "    - Benefits for comp-vision, e.g. depthwise separable convolutions, grouped convolutions\n",
    "    Multi-head attention is the same idea applied to self-attention\n",
    "\n",
    "11.4.3 The Transformer encoder\n",
    "\n",
    "- Transformer encoder: processes the source sequence\n",
    "- Transformer decoder: uses source sequence to generate new text\n",
    "\n",
    "Key components for complex models\n",
    "- Factoring outputs into multiple independent spaces\n",
    "- Adding residual connections\n",
    "- Adding normalization layers"
   ]
  },
  {
   "cell_type": "markdown",
   "id": "376a70ac",
   "metadata": {},
   "source": [
    "$$T^{d_sd_s \\times d_sd_t}= I_{d_s} \\otimes W_U^{d_s \\times d_e} W_E^{d_e \\times d_t } + \\sum_{h \\in H} A^{h,d_s \\times d_s} \\otimes (W_U^{d_s \\times d_e} W_{OV}^{h, d_e \\times d_e} W_E^{d_e \\times d_t })$$\n",
    "\n",
    "where\n",
    "\n",
    "$$A^{h, d_s \\times d_s} = softmax\\left( t^{d_s \\times d_t} W_E^{d_t \\times d_e } W_{QK}^{h,d_e \\times d_e} W_E^{d_e \\times d_t } t^{d_t \\times d_s}  \\right)$$\n",
    "\n",
    "and\n",
    "\n",
    "$s$ is sequence, $t$ is token dimension, $e$ is embedding dimension."
   ]
  },
  {
   "cell_type": "markdown",
   "id": "3aa4c72c",
   "metadata": {},
   "source": [
    "Batch vs Layer Normalization\n",
    "\n",
    "- Batch Normalization\n",
    "    - collects information from many samples to obtain accurate statistics for feature means and variances\n",
    "    - More appropriate for non-sequential data\n",
    "\n",
    "\n",
    "- Layer Normalization\n",
    "    - pools data within each sequence separtely\n",
    "    - More appropriate for sequence data"
   ]
  },
  {
   "cell_type": "markdown",
   "id": "4a159198",
   "metadata": {},
   "source": [
    "Positional Embedding\n",
    "\n",
    "Using positional encoding to re-inject order information\n",
    "\n",
    "- Give model access to word information \n",
    "- Use word position index in embedding, as well (add it)\n",
    "- Input word embedding shave two components\n",
    "    - usual word vector representing the word independently of any specific context\n",
    "    - position vector representing position of word in sentence\n",
    "\n",
    "Examples\n",
    "- Trigonometric embeddings\n",
    "- Learned embeddings"
   ]
  },
  {
   "cell_type": "markdown",
   "id": "10332d9f",
   "metadata": {},
   "source": [
    "- MultiheadAttention: https://docs.pytorch.org/docs/stable/generated/torch.nn.MultiheadAttention.html\n",
    "- LayerNorm: https://docs.pytorch.org/docs/stable/generated/torch.nn.LayerNorm.html\n",
    "- MaxPool1d: https://docs.pytorch.org/docs/stable/generated/torch.nn.MaxPool1d.html\n",
    "- BCELoss: https://docs.pytorch.org/docs/stable/generated/torch.nn.BCELoss.html#bceloss\n",
    "- CrossEntropyLoss: https://docs.pytorch.org/docs/stable/generated/torch.nn.CrossEntropyLoss.html"
   ]
  },
  {
   "cell_type": "markdown",
   "id": "cf1b11bf",
   "metadata": {},
   "source": [
    "## TransformerEncoder: Sequence classification learning"
   ]
  },
  {
   "cell_type": "markdown",
   "id": "c057c49b",
   "metadata": {},
   "source": [
    "11.4.4 When to use sequence models over bag-of-words models (for text classification ONLY)\n",
    "\n",
    "- Look at the ratio between the number of samples in the training data and the mean number of words per sample\n",
    "    - If small (~<1500), bag-of-bigrams (better, faster to train and iterate on)\n",
    "    - Otherwise, sequence model (needs lots of training data, each sample relatively short)\n",
    "\n",
    "- Sequence model inputs represent a richer and more complex space\n",
    "    - Takes more data to map out that space\n",
    "    - The shorter a sample, the more important it is to retain as much infromation as possible. Word order is more important.\n",
    "- Set models have a simpler input space\n",
    "    - Train a logistic regression\n",
    "    - In a longer sample, word statistics would become more reliable. Topic would be apparent from word histogram alone"
   ]
  },
  {
   "cell_type": "code",
   "execution_count": 1,
   "id": "89131b16",
   "metadata": {},
   "outputs": [
    {
     "name": "stdout",
     "output_type": "stream",
     "text": [
      "Original:  (6, 10, 20)\n",
      "Layer Means:  (6, 10, 1)\n",
      "Batch Mean:  (1, 1, 1)\n"
     ]
    }
   ],
   "source": [
    "import numpy as np\n",
    "print('Original: ',np.random.randint(0,2,size=(6,10,20)).shape)\n",
    "# Layer Normalization\n",
    "def layer_normalization(batch_of_sequences):\n",
    "    mean = np.mean(batch_of_sequences, keepdims=True, axis=-1)\n",
    "    variance = np.var(batch_of_sequences, keepsimd=True, axis=-1)\n",
    "    return (batch_of_sequences-mean)/variance\n",
    "\n",
    "print('Layer Means: ',np.mean(np.random.randint(0,2,size=(6,10,20)), keepdims=True, axis=-1).shape)\n",
    "\n",
    "def batch_normalization(batch_of_images):\n",
    "    mean = np.mean(batch_of_images, keepdims=True, axis=(0,1,2))\n",
    "    variance = np.var(batch_of_images, keepsimd=True, axis=(0,1,2))\n",
    "    return (batch_of_images-mean)/variance\n",
    "\n",
    "print('Batch Mean: ',np.mean(np.random.randint(0,2,size=(6,10,20)), keepdims=True, axis=(0,1,2)).shape)"
   ]
  },
  {
   "cell_type": "code",
   "execution_count": 2,
   "id": "9c186a8d",
   "metadata": {},
   "outputs": [
    {
     "name": "stdout",
     "output_type": "stream",
     "text": [
      "Device:  cpu\n",
      "Text: stage adaptations often have a major fault they often come out looking like a film camera was simply placed on the stage such as night mother sidney lumets direction keeps the film alive which is especially difficult since the picture offered him no real challenge still its nice to look at for what it is the chemistry between michael caine and christopher reeve is quite brilliant the dynamics of their relationship are surprising caine is fantastic as always and reeve gets one of his few chances to really actbr br i confess that ive never seen ira levins play but i hear that jay presson allens adaptation is faithful the script is incredibly convoluted and keeps you guessing deathtrap is an enormously entertaining film and is recommended for nearly all fans of stage and screenbr br 74 out of 10\n",
      "Label: 1\n",
      "Tokens: ['stage', 'adaptations', 'often', 'have', 'a', 'major', 'fault', 'they', 'often', 'come']\n"
     ]
    }
   ],
   "source": [
    "from utils import *\n",
    "ngram_size = 1\n",
    "max_vocab_length = 20000\n",
    "batch_size = 32\n",
    "train_loader, val_loader, test_loader, vocab, max_seq_length = get_data(ngram_size,\n",
    "                                                                        max_vocab_length,\n",
    "                                                                        batch_size)"
   ]
  },
  {
   "cell_type": "code",
   "execution_count": 3,
   "id": "08067ee4",
   "metadata": {},
   "outputs": [],
   "source": [
    "torch.manual_seed(0)\n",
    "# Model Hyperparameters\n",
    "epochs = 10\n",
    "learning_rate = 1e-3 # want this to be 10^-2 - 10^-4\n",
    "hidden_dim = 16 # defines hidden dense layer size\n",
    "embed_dim = 128 # If using OneHot = len(vocab)\n",
    "att_heads = 2\n",
    "# Initialize model and optimizer\n",
    "model = TransformerClassifier(hidden_dim = hidden_dim, \n",
    "                             vocab = vocab, \n",
    "                             embed_dim = embed_dim,\n",
    "                             num_heads=att_heads,\n",
    "                             max_seq_length=max_seq_length).to(device)\n",
    "optimizer = torch.optim.Adam(model.parameters(), lr=learning_rate)\n",
    "loss_fn = nn.BCELoss() #BCELoss"
   ]
  },
  {
   "cell_type": "code",
   "execution_count": 4,
   "id": "2c868907",
   "metadata": {},
   "outputs": [
    {
     "name": "stdout",
     "output_type": "stream",
     "text": [
      "Number of Parameters:  5506961\n"
     ]
    }
   ],
   "source": [
    "number_of_parameters = 0\n",
    "for i,params in enumerate(model.parameters()):\n",
    "  number_of_parameters += params.flatten().shape[0]\n",
    "print('Number of Parameters: ', number_of_parameters)"
   ]
  },
  {
   "cell_type": "code",
   "execution_count": 5,
   "id": "c2ebe05a",
   "metadata": {},
   "outputs": [
    {
     "data": {
      "text/plain": [
       "============================================================================================================================================\n",
       "Layer (type:depth-idx)                   Input Shape               Output Shape              Param #                   Trainable\n",
       "============================================================================================================================================\n",
       "TransformerClassifier                    [32, 2469]                [32, 1]                   --                        True\n",
       "├─PositionalEmbedding: 1-1               [32, 2469]                [32, 2469, 128]           --                        True\n",
       "│    └─Embedding: 2-1                    [32, 2469]                [32, 2469, 128]           2,560,000                 True\n",
       "│    └─Embedding: 2-2                    [32, 2469]                [32, 2469, 128]           316,032                   True\n",
       "├─TransformerEncoder: 1-2                [32, 2469, 128]           [32, 2469, 128]           2,560,000                 True\n",
       "│    └─MultiheadAttention: 2-3           --                        [32, 2469, 128]           66,048                    True\n",
       "│    └─LayerNorm: 2-4                    [32, 2469, 128]           [32, 2469, 128]           256                       True\n",
       "│    └─Sequential: 2-5                   [32, 2469, 128]           [32, 2469, 128]           --                        True\n",
       "│    │    └─Linear: 3-1                  [32, 2469, 128]           [32, 2469, 16]            2,064                     True\n",
       "│    │    └─ReLU: 3-2                    [32, 2469, 16]            [32, 2469, 16]            --                        --\n",
       "│    │    └─Linear: 3-3                  [32, 2469, 16]            [32, 2469, 128]           2,176                     True\n",
       "│    └─LayerNorm: 2-6                    [32, 2469, 128]           [32, 2469, 128]           256                       True\n",
       "├─AdaptiveMaxPool1d: 1-3                 [32, 128, 2469]           [32, 128, 1]              --                        --\n",
       "├─Dropout: 1-4                           [32, 128]                 [32, 128]                 --                        --\n",
       "├─Linear: 1-5                            [32, 128]                 [32, 1]                   129                       True\n",
       "├─Sigmoid: 1-6                           [32, 1]                   [32, 1]                   --                        --\n",
       "============================================================================================================================================\n",
       "Total params: 5,506,961\n",
       "Trainable params: 5,506,961\n",
       "Non-trainable params: 0\n",
       "Total mult-adds (Units.MEGABYTES): 92.19\n",
       "============================================================================================================================================\n",
       "Input size (MB): 0.63\n",
       "Forward/backward pass size (MB): 829.27\n",
       "Params size (MB): 23.05\n",
       "Estimated Total Size (MB): 852.95\n",
       "============================================================================================================================================"
      ]
     },
     "execution_count": 5,
     "metadata": {},
     "output_type": "execute_result"
    }
   ],
   "source": [
    "torchinfo.summary(model, \n",
    "                  input_data=(torch.randint(0,len(vocab),(batch_size,max_seq_length)), \n",
    "                                torch.randint(1,max_seq_length,(batch_size,)) ),\n",
    "                   col_names=[\"input_size\", \"output_size\", \"num_params\", \"trainable\"],\n",
    "                   depth=3                  \n",
    "                   )"
   ]
  },
  {
   "cell_type": "code",
   "execution_count": 6,
   "id": "c5fe9abf",
   "metadata": {},
   "outputs": [
    {
     "name": "stderr",
     "output_type": "stream",
     "text": [
      " 10%|█         | 1/10 [02:35<23:18, 155.36s/it]"
     ]
    },
    {
     "name": "stdout",
     "output_type": "stream",
     "text": [
      "Epoch: 0 | Train Loss: 0.74141794 | Val Loss: 0.70077599 | Best Val Loss: 0.70077599 | Accuracy: 0.49860000\n"
     ]
    },
    {
     "name": "stderr",
     "output_type": "stream",
     "text": [
      " 20%|██        | 2/10 [05:16<21:10, 158.85s/it]"
     ]
    },
    {
     "name": "stdout",
     "output_type": "stream",
     "text": [
      "Epoch: 1 | Train Loss: 0.69760959 | Val Loss: 0.69100728 | Best Val Loss: 0.69100728 | Accuracy: 0.55360000\n"
     ]
    },
    {
     "name": "stderr",
     "output_type": "stream",
     "text": [
      " 30%|███       | 3/10 [08:09<19:16, 165.18s/it]"
     ]
    },
    {
     "name": "stdout",
     "output_type": "stream",
     "text": [
      "Epoch: 2 | Train Loss: 0.69861176 | Val Loss: 0.69353417 | Best Val Loss: 0.69100728 | Accuracy: 0.50780000\n"
     ]
    },
    {
     "name": "stderr",
     "output_type": "stream",
     "text": [
      " 40%|████      | 4/10 [11:16<17:22, 173.69s/it]"
     ]
    },
    {
     "name": "stdout",
     "output_type": "stream",
     "text": [
      "Epoch: 3 | Train Loss: 0.69373831 | Val Loss: 0.68850060 | Best Val Loss: 0.68850060 | Accuracy: 0.53700000\n"
     ]
    },
    {
     "name": "stderr",
     "output_type": "stream",
     "text": [
      " 50%|█████     | 5/10 [14:24<14:55, 179.09s/it]"
     ]
    },
    {
     "name": "stdout",
     "output_type": "stream",
     "text": [
      "Epoch: 4 | Train Loss: 0.69079151 | Val Loss: 0.68450539 | Best Val Loss: 0.68450539 | Accuracy: 0.54560000\n"
     ]
    },
    {
     "name": "stderr",
     "output_type": "stream",
     "text": [
      " 60%|██████    | 6/10 [17:36<12:13, 183.29s/it]"
     ]
    },
    {
     "name": "stdout",
     "output_type": "stream",
     "text": [
      "Epoch: 5 | Train Loss: 0.68767283 | Val Loss: 0.68262394 | Best Val Loss: 0.68262394 | Accuracy: 0.53000000\n"
     ]
    },
    {
     "name": "stderr",
     "output_type": "stream",
     "text": [
      " 70%|███████   | 7/10 [20:45<09:16, 185.34s/it]"
     ]
    },
    {
     "name": "stdout",
     "output_type": "stream",
     "text": [
      "Epoch: 6 | Train Loss: 0.68232868 | Val Loss: 0.68938341 | Best Val Loss: 0.68262394 | Accuracy: 0.50140000\n"
     ]
    },
    {
     "name": "stderr",
     "output_type": "stream",
     "text": [
      " 80%|████████  | 8/10 [23:59<06:16, 188.07s/it]"
     ]
    },
    {
     "name": "stdout",
     "output_type": "stream",
     "text": [
      "Epoch: 7 | Train Loss: 0.67870813 | Val Loss: 0.67896902 | Best Val Loss: 0.67896902 | Accuracy: 0.54040000\n"
     ]
    },
    {
     "name": "stderr",
     "output_type": "stream",
     "text": [
      " 90%|█████████ | 9/10 [27:16<03:10, 190.82s/it]"
     ]
    },
    {
     "name": "stdout",
     "output_type": "stream",
     "text": [
      "Epoch: 8 | Train Loss: 0.67598600 | Val Loss: 0.66684501 | Best Val Loss: 0.66684501 | Accuracy: 0.59060000\n"
     ]
    },
    {
     "name": "stderr",
     "output_type": "stream",
     "text": [
      "100%|██████████| 10/10 [30:35<00:00, 183.52s/it]"
     ]
    },
    {
     "name": "stdout",
     "output_type": "stream",
     "text": [
      "Epoch: 9 | Train Loss: 0.65291517 | Val Loss: 0.63944607 | Best Val Loss: 0.63944607 | Accuracy: 0.63240000\n",
      "Training Complete. Total Time (s): 1835.1740000247955\n"
     ]
    },
    {
     "name": "stderr",
     "output_type": "stream",
     "text": [
      "\n"
     ]
    }
   ],
   "source": [
    "training_history = training(train_loader,\n",
    "                            val_loader,\n",
    "                            epochs,\n",
    "                            loss_fn,\n",
    "                            model,\n",
    "                            optimizer,\n",
    "                            regularize = False)"
   ]
  },
  {
   "cell_type": "markdown",
   "id": "4b59cb92",
   "metadata": {},
   "source": [
    "### Evaluate Model"
   ]
  },
  {
   "cell_type": "code",
   "execution_count": 13,
   "id": "ab3a80b8",
   "metadata": {},
   "outputs": [
    {
     "data": {
      "text/plain": [
       "TransformerClassifier(\n",
       "  (embed): PositionalEmbedding(\n",
       "    (embed_words): Embedding(20000, 128, padding_idx=0)\n",
       "    (embed_positions): Embedding(2469, 128)\n",
       "  )\n",
       "  (transformer_encoder): TransformerEncoder(\n",
       "    (embed): Embedding(20000, 128, padding_idx=0)\n",
       "    (attention): MultiheadAttention(\n",
       "      (out_proj): NonDynamicallyQuantizableLinear(in_features=128, out_features=128, bias=True)\n",
       "    )\n",
       "    (dense_proj): Sequential(\n",
       "      (0): Linear(in_features=128, out_features=16, bias=True)\n",
       "      (1): ReLU()\n",
       "      (2): Linear(in_features=16, out_features=128, bias=True)\n",
       "    )\n",
       "    (layernorm1): LayerNorm((128,), eps=1e-05, elementwise_affine=True)\n",
       "    (layernorm2): LayerNorm((128,), eps=1e-05, elementwise_affine=True)\n",
       "  )\n",
       "  (global_max_pool): AdaptiveMaxPool1d(output_size=1)\n",
       "  (dropout): Dropout(p=0.5, inplace=False)\n",
       "  (dense): Linear(in_features=128, out_features=1, bias=True)\n",
       "  (sigmoid): Sigmoid()\n",
       ")"
      ]
     },
     "execution_count": 13,
     "metadata": {},
     "output_type": "execute_result"
    }
   ],
   "source": [
    "# --- Saving ---\n",
    "# torch.save(model.state_dict(), \"weights/binaryclassifier_transformer_model.pth\")\n",
    "\n",
    "# --- Loading ---\n",
    "# create model instance\n",
    "model = TransformerClassifier(hidden_dim = hidden_dim, \n",
    "                             vocab = vocab, \n",
    "                             embed_dim = embed_dim,\n",
    "                             num_heads=att_heads,\n",
    "                             max_seq_length=max_seq_length).to(device)\n",
    "model.load_state_dict(torch.load(\"weights/binaryclassifier_transformer_model.pth\"))\n",
    "model.eval()   # set to eval mode for inference"
   ]
  },
  {
   "cell_type": "code",
   "execution_count": 14,
   "id": "d16cb3c4",
   "metadata": {},
   "outputs": [
    {
     "data": {
      "text/plain": [
       "dict_keys(['train_loss', 'val_loss', 'accuracy', 'weights', 'components_loss'])"
      ]
     },
     "execution_count": 14,
     "metadata": {},
     "output_type": "execute_result"
    }
   ],
   "source": [
    "training_history['history'].keys()"
   ]
  },
  {
   "cell_type": "code",
   "execution_count": 15,
   "id": "cc9043a4",
   "metadata": {},
   "outputs": [],
   "source": [
    "# np.save(data_path+f'train_su{2**qubit_number}_su{2**mod_fraction}_lay{n_layers}_ep{epochs}_lr{lr}_param{count}.npy',model_history['history']['train_loss'])\n",
    "# np.save(data_path+f'weights_su{2**qubit_number}_su{2**mod_fraction}_lay{n_layers}_ep{epochs}_lr{lr}_param{count}.npy',model_history['history']['weights'][0])"
   ]
  },
  {
   "cell_type": "code",
   "execution_count": 16,
   "id": "dc4a6c38",
   "metadata": {},
   "outputs": [
    {
     "data": {
      "text/plain": [
       "Text(0.5, 0, 'Epoch')"
      ]
     },
     "execution_count": 16,
     "metadata": {},
     "output_type": "execute_result"
    },
    {
     "data": {
      "image/png": "[encoded data removed]",
      "text/plain": [
       "<Figure size 500x300 with 1 Axes>"
      ]
     },
     "metadata": {},
     "output_type": "display_data"
    }
   ],
   "source": [
    "plt.figure(figsize=(5,3))\n",
    "epoch_list = [i for i in range(epochs)]\n",
    "plt.plot(epoch_list,training_history['history']['train_loss'],label= 'Train Loss',c='b')\n",
    "plt.plot(epoch_list,training_history['history']['val_loss'],label= 'Val Loss',c='r')\n",
    "plt.plot(epoch_list,training_history['history']['accuracy'], label = 'Val Acc',c='g')\n",
    "plt.legend()\n",
    "plt.title(f'Loss Landscape for {ngram_size}-grams')\n",
    "plt.ylabel('Loss/Acc')\n",
    "plt.xlabel('Epoch')\n",
    "# plt.savefig(\"loss.png\", bbox_inches=\"tight\")"
   ]
  },
  {
   "cell_type": "markdown",
   "id": "be335dc2",
   "metadata": {},
   "source": [
    "Check Test Data\n",
    "- Confusion Matrix\n",
    "- Accuracy\n",
    "- ROC Curve\n",
    "- ROC AUC Score\n",
    "- PR AUC Curve\n",
    "- PR Score\n",
    "- F1 Score"
   ]
  },
  {
   "cell_type": "code",
   "execution_count": 17,
   "id": "a8400b37",
   "metadata": {},
   "outputs": [
    {
     "name": "stdout",
     "output_type": "stream",
     "text": [
      "Test Accuracy:  0.61448\n"
     ]
    }
   ],
   "source": [
    "correct_predictions = 0\n",
    "total_predictions = 0\n",
    "model.to(device)\n",
    "model.eval()\n",
    "with torch.inference_mode():\n",
    "        for batch_idx, batch in enumerate(test_loader):#tqdm(enumerate(train_loader)):\n",
    "                input_data = batch['tokens'].to(device).to(torch.float64)\n",
    "                lengths_data = batch['lengths'].to(device)\n",
    "                label_data = batch['label'].to(device).to(torch.float64).unsqueeze(1)\n",
    "                \n",
    "                predictions = (model(input_data,lengths_data)>0.5).long()\n",
    "                correct_predictions += (label_data.long()==predictions).sum().item()\n",
    "                total_predictions += label_data.shape[0]\n",
    "\n",
    "accuracy = correct_predictions / total_predictions\n",
    "print('Test Accuracy: ', accuracy)"
   ]
  },
  {
   "cell_type": "code",
   "execution_count": 18,
   "id": "79584cf5",
   "metadata": {},
   "outputs": [
    {
     "name": "stdout",
     "output_type": "stream",
     "text": [
      "              precision    recall  f1-score   support\n",
      "\n",
      "         0.0     0.7343    0.3620    0.4849     12500\n",
      "         1.0     0.5767    0.8690    0.6933     12500\n",
      "\n",
      "    accuracy                         0.6155     25000\n",
      "   macro avg     0.6555    0.6155    0.5891     25000\n",
      "weighted avg     0.6555    0.6155    0.5891     25000\n",
      "\n"
     ]
    },
    {
     "data": {
      "text/plain": [
       "<Figure size 500x400 with 0 Axes>"
      ]
     },
     "metadata": {},
     "output_type": "display_data"
    },
    {
     "data": {
      "image/png": "[encoded data removed]",
      "text/plain": [
       "<Figure size 640x480 with 2 Axes>"
      ]
     },
     "metadata": {},
     "output_type": "display_data"
    },
    {
     "data": {
      "text/plain": [
       "<Figure size 500x400 with 0 Axes>"
      ]
     },
     "metadata": {},
     "output_type": "display_data"
    },
    {
     "data": {
      "image/png": "[encoded data removed]",
      "text/plain": [
       "<Figure size 640x480 with 1 Axes>"
      ]
     },
     "metadata": {},
     "output_type": "display_data"
    },
    {
     "data": {
      "text/plain": [
       "<Figure size 500x400 with 0 Axes>"
      ]
     },
     "metadata": {},
     "output_type": "display_data"
    },
    {
     "data": {
      "image/png": "[encoded data removed]",
      "text/plain": [
       "<Figure size 640x480 with 1 Axes>"
      ]
     },
     "metadata": {},
     "output_type": "display_data"
    },
    {
     "name": "stdout",
     "output_type": "stream",
     "text": [
      "Best threshold by F1: 0.48 F1: 0.6943339018381657\n"
     ]
    }
   ],
   "source": [
    "y_true, y_pred, y_probs = outputs(model, test_loader, device=device)\n",
    "metrics = compute_metrics(y_true, y_pred, y_probs)\n",
    "print(metrics['report'])\n",
    "plot_confusion_matrix(y_true, y_pred, normalize=None)   # or normalize='true'\n",
    "# plt.savefig(\"confusion.png\", bbox_inches=\"tight\")\n",
    "plot_roc_curve(y_true, y_probs)\n",
    "# plt.savefig(\"roc.png\", bbox_inches=\"tight\")\n",
    "plot_precision_recall(y_true, y_probs)\n",
    "# plt.savefig(\"precisionrecall.png\", bbox_inches=\"tight\")\n",
    "best_t, best_f1, sweep = threshold_sweep(y_true, y_probs)\n",
    "print(\"Best threshold by F1:\", best_t, \"F1:\", best_f1)"
   ]
  },
  {
   "cell_type": "markdown",
   "id": "324a513c",
   "metadata": {},
   "source": [
    "## Transformer: Sequence-to-sequence learning"
   ]
  },
  {
   "cell_type": "markdown",
   "id": "f344c910",
   "metadata": {},
   "source": [
    "### 11.5 Beyond text classification: Sequence-to-sequence learning\n",
    "\n",
    "- Takes a sequeence as input and returns a new sequence]\n",
    "- Successful applications\n",
    "    - Machine translation\n",
    "    - Text summarization\n",
    "    - Question answering\n",
    "    - Chatbots\n",
    "    - Text generation\n",
    "\n",
    "- During training\n",
    "    - encoder: turns source sequence into an intermediate representation\n",
    "    - decoder: predicts the next token $i$ in the target sequence by looking at both previous tokens $(0$ to $i-1)$ and encoded source sequence\n",
    "\n",
    "- During inference\n",
    "    - No access to the target sequence, generate it one token at a time\n",
    "    - Encoded source seuqence from the encoder\n",
    "    - Decoder looks at encoded source sequence and an initial \"seed\" token such as \"[start]\" to predict the first real token\n",
    "    - Predicted sequence so far is sent back into the decoder to generate the next token until generating a stop token such as \"[end]\""
   ]
  },
  {
   "cell_type": "markdown",
   "id": "af523254",
   "metadata": {},
   "source": [
    "11.5.3 Sequence-tosequence learning with Transformer"
   ]
  },
  {
   "cell_type": "markdown",
   "id": "f60d9872",
   "metadata": {},
   "source": [
    "Recall for sequence to sequence learning\n",
    "\n",
    "- Accuracy is not a great metric, during inference past token predictions may be wrong\n",
    "- BLEU scores\n",
    "\n",
    "- Inference split encoder/decoder to only use encoder once on source\n",
    "\n",
    "- **Transformer encoder:** reads in the source sequence and produces an encoded representation of it keeping the encoded representation in a sequence format. It is a sequence of context aware embedding vectors\n",
    "- **Transformer decoder:** reads tokens $0,\\dots,N$ in the target input sequence and tries to predict the $N+1$ token in the shifted target output sequence. \n",
    "    - Uses neural attention to identify which tokens in the encoded source sentence are most closely related to the target token\n",
    "    - Target sequence serves as the attention query used to pay closer attention to different parts of the source sequence\n",
    "    - Source sequence will be both the keys and values\n",
    "\n",
    "<p align=\"center\">\n",
    "  <img src=\"images/transformer.png\" alt=\"transformer\" width=\"300\"/>\n",
    "</p>\n",
    "\n",
    "Transformer Decoder\n",
    "\n",
    "- Similar to encoder\n",
    "- Cross-attention: extra attention block in between the self attention block for the target sequence and the dense linear layers in the exit block\n",
    "    - Query: self attention target input\n",
    "    - Keys: encoded source\n",
    "    - Values: encoded source\n",
    "\n",
    "- Need causal padding\n",
    "    - RNN: looks at input one step ata time, have access to steps $0,\\dots,N$ to generate ouput step $N$ or token $N+1$ \n",
    "    - Transformer: order agnostic, looks at entire target sequence at once \n",
    "        - But if it uses the entire input, it would learn to copy input step $N+1$ to location $N$ in the output, but would be useless for inference since the input steps beyond $N$ will not be available\n",
    "        - Solution: mask the upper half of the pairwise attention matrix to prevent the model from paying any attention to information from the future\n",
    "        - i.e. only tokens $0,\\dots,N$ in the target sequence should be used to determine target token $N+1$\n",
    "\n",
    "- Note: Transformer encoder and decoder are shape invariant which means you can stack many of them to create a more powerful encoder or decoder."
   ]
  },
  {
   "cell_type": "code",
   "execution_count": 1,
   "id": "b8fa2204",
   "metadata": {},
   "outputs": [
    {
     "name": "stdout",
     "output_type": "stream",
     "text": [
      "Device:  cpu\n"
     ]
    }
   ],
   "source": [
    "'''\n",
    "Process data\n",
    "'''\n",
    "from utils_seq2seq import *\n",
    "# load text file, create pairs, standardize\n",
    "text_file = 'data/datasets/spa-eng/spa.txt'\n",
    "pairs = []\n",
    "with open(text_file, 'r', encoding='utf-8') as f:\n",
    "    for line in f:\n",
    "        line = line.strip()\n",
    "        if not line:\n",
    "            continue\n",
    "        parts = line.split(\"\\t\")\n",
    "        if len(parts) < 2:\n",
    "            continue\n",
    "        en, es = parts[0], parts[1]\n",
    "        pairs.append((english_standardize(en), \"[start] \"+spanish_standardize(es)+\" [end]\"))\n",
    "\n",
    "# shuffle + split\n",
    "random.seed(0)\n",
    "random.shuffle(pairs)\n",
    "n = len(pairs)\n",
    "n_val = int(0.15 * n)\n",
    "n_test = n_val\n",
    "n_train = n - n_val - n_test\n",
    "train_pairs = pairs[:n_train]\n",
    "val_pairs = pairs[n_train:n_train+n_val]\n",
    "test_pairs = pairs[n_train+n_val:]\n",
    "\n",
    "# Tokenize\n",
    "train_source_tokens = [tokenize_text(p[0]) for p in train_pairs]\n",
    "train_target_tokens = [tokenize_text(p[1]) for p in train_pairs]\n",
    "\n",
    "max_seq_length = find_max_seq_length(train_source_tokens+train_target_tokens)\n",
    "\n",
    "# Index\n",
    "max_vocab_size = 15000\n",
    "min_word_freq = 1\n",
    "source_vocab, source_inv = build_vocab(train_source_tokens, max_size=max_vocab_size, min_freq=min_word_freq)\n",
    "target_vocab, target_inv = build_vocab(train_target_tokens, max_size=max_vocab_size, min_freq=min_word_freq)\n",
    "\n",
    "pad_idx_source = source_vocab[\"<pad>\"]\n",
    "pad_idx_target = target_vocab[\"<pad>\"]\n",
    "unk_idx_target = target_vocab[\"<unk>\"]\n",
    "\n",
    "train_dataset = TranslationDataset(train_pairs, source_vocab, target_vocab)\n",
    "val_dataset = TranslationDataset(val_pairs, source_vocab, target_vocab)\n",
    "test_dataset = TranslationDataset(test_pairs, source_vocab, target_vocab)\n",
    "\n",
    "collate_function = partial(collate_seq2seq, source_pad_idx=pad_idx_source, target_pad_idx=pad_idx_target)\n",
    "\n",
    "batch_size = 64\n",
    "train_loader = DataLoader(train_dataset, \n",
    "                          batch_size=batch_size, \n",
    "                          shuffle=True,\n",
    "                          collate_fn=collate_function)\n",
    "val_loader   = DataLoader(val_dataset, \n",
    "                          batch_size=batch_size, \n",
    "                          shuffle=False,\n",
    "                          collate_fn=collate_function)"
   ]
  },
  {
   "cell_type": "code",
   "execution_count": null,
   "id": "56bd977a",
   "metadata": {},
   "outputs": [],
   "source": [
    "epochs = 12\n",
    "model = TransformerSeq2Seq(source_vocab_size = len(source_vocab), \n",
    "                            target_vocab_size = len(target_vocab), \n",
    "                            embed_dim=128, \n",
    "                            hidden_dim=64, \n",
    "                            num_heads=2,\n",
    "                            num_layers=2,\n",
    "                            pad_idx_source=pad_idx_source, \n",
    "                            pad_idx_target=pad_idx_target,\n",
    "                            max_source_len = max_seq_length,\n",
    "                            max_target_len = max_seq_length).to(device)\n",
    "\n",
    "optimizer = torch.optim.Adam(model.parameters(), lr=1e-3)\n",
    "loss_fn = nn.CrossEntropyLoss(ignore_index=pad_idx_target)"
   ]
  },
  {
   "cell_type": "code",
   "execution_count": 3,
   "id": "2db839a2",
   "metadata": {},
   "outputs": [
    {
     "data": {
      "text/plain": [
       "('yesterday i met mary on the street',\n",
       " '[start] ayer me encontré con mary en la calle [end]')"
      ]
     },
     "execution_count": 3,
     "metadata": {},
     "output_type": "execute_result"
    }
   ],
   "source": [
    "train_pairs[0]"
   ]
  },
  {
   "cell_type": "code",
   "execution_count": 4,
   "id": "2f103d9d",
   "metadata": {},
   "outputs": [
    {
     "name": "stdout",
     "output_type": "stream",
     "text": [
      "Number of Parameters:  5971354\n"
     ]
    }
   ],
   "source": [
    "number_of_parameters = 0\n",
    "for i,params in enumerate(model.parameters()):\n",
    "  number_of_parameters += params.flatten().shape[0]\n",
    "print('Number of Parameters: ', number_of_parameters)"
   ]
  },
  {
   "cell_type": "code",
   "execution_count": 5,
   "id": "7ee51079",
   "metadata": {},
   "outputs": [
    {
     "data": {
      "text/plain": [
       "============================================================================================================================================\n",
       "Layer (type:depth-idx)                   Input Shape               Output Shape              Param #                   Trainable\n",
       "============================================================================================================================================\n",
       "TransformerSeq2Seq                       [64, 20]                  [64, 20, 15002]           --                        True\n",
       "├─Embedding: 1-1                         [64, 20]                  [64, 20, 128]             1,650,688                 True\n",
       "├─SinusoidalPositionalEmbedding: 1-2     [64, 20, 128]             [64, 20, 128]             --                        --\n",
       "├─Embedding: 1-3                         [64, 20]                  [64, 20, 128]             1,920,256                 True\n",
       "├─SinusoidalPositionalEmbedding: 1-4     [64, 20, 128]             [64, 20, 128]             --                        --\n",
       "├─ModuleList: 1-5                        --                        --                        --                        True\n",
       "│    └─TransformerEncoder: 2-1           [64, 20, 128]             [64, 20, 128]             --                        True\n",
       "│    │    └─MultiheadAttention: 3-1      --                        [64, 20, 128]             66,048                    True\n",
       "│    │    └─LayerNorm: 3-2               [64, 20, 128]             [64, 20, 128]             256                       True\n",
       "│    │    └─Sequential: 3-3              [64, 20, 128]             [64, 20, 128]             16,576                    True\n",
       "│    │    └─LayerNorm: 3-4               [64, 20, 128]             [64, 20, 128]             256                       True\n",
       "│    └─TransformerEncoder: 2-2           [64, 20, 128]             [64, 20, 128]             --                        True\n",
       "│    │    └─MultiheadAttention: 3-5      --                        [64, 20, 128]             66,048                    True\n",
       "│    │    └─LayerNorm: 3-6               [64, 20, 128]             [64, 20, 128]             256                       True\n",
       "│    │    └─Sequential: 3-7              [64, 20, 128]             [64, 20, 128]             16,576                    True\n",
       "│    │    └─LayerNorm: 3-8               [64, 20, 128]             [64, 20, 128]             256                       True\n",
       "├─ModuleList: 1-6                        --                        --                        --                        True\n",
       "│    └─TransformerDecoder: 2-3           [64, 20, 128]             [64, 20, 128]             --                        True\n",
       "│    │    └─MultiheadAttention: 3-9      [64, 20, 128]             [64, 20, 128]             66,048                    True\n",
       "│    │    └─Dropout: 3-10                [64, 20, 128]             [64, 20, 128]             --                        --\n",
       "│    │    └─LayerNorm: 3-11              [64, 20, 128]             [64, 20, 128]             256                       True\n",
       "│    │    └─MultiheadAttention: 3-12     [64, 20, 128]             [64, 20, 128]             66,048                    True\n",
       "│    │    └─Dropout: 3-13                [64, 20, 128]             [64, 20, 128]             --                        --\n",
       "│    │    └─LayerNorm: 3-14              [64, 20, 128]             [64, 20, 128]             256                       True\n",
       "│    │    └─Sequential: 3-15             [64, 20, 128]             [64, 20, 128]             16,576                    True\n",
       "│    │    └─Dropout: 3-16                [64, 20, 128]             [64, 20, 128]             --                        --\n",
       "│    │    └─LayerNorm: 3-17              [64, 20, 128]             [64, 20, 128]             256                       True\n",
       "│    └─TransformerDecoder: 2-4           [64, 20, 128]             [64, 20, 128]             --                        True\n",
       "│    │    └─MultiheadAttention: 3-18     [64, 20, 128]             [64, 20, 128]             66,048                    True\n",
       "│    │    └─Dropout: 3-19                [64, 20, 128]             [64, 20, 128]             --                        --\n",
       "│    │    └─LayerNorm: 3-20              [64, 20, 128]             [64, 20, 128]             256                       True\n",
       "│    │    └─MultiheadAttention: 3-21     [64, 20, 128]             [64, 20, 128]             66,048                    True\n",
       "│    │    └─Dropout: 3-22                [64, 20, 128]             [64, 20, 128]             --                        --\n",
       "│    │    └─LayerNorm: 3-23              [64, 20, 128]             [64, 20, 128]             256                       True\n",
       "│    │    └─Sequential: 3-24             [64, 20, 128]             [64, 20, 128]             16,576                    True\n",
       "│    │    └─Dropout: 3-25                [64, 20, 128]             [64, 20, 128]             --                        --\n",
       "│    │    └─LayerNorm: 3-26              [64, 20, 128]             [64, 20, 128]             256                       True\n",
       "├─Linear: 1-7                            [64, 20, 128]             [64, 20, 15002]           1,935,258                 True\n",
       "============================================================================================================================================\n",
       "Total params: 5,971,354\n",
       "Trainable params: 5,971,354\n",
       "Non-trainable params: 0\n",
       "Total mult-adds (Units.MEGABYTES): 356.80\n",
       "============================================================================================================================================\n",
       "Input size (MB): 0.02\n",
       "Forward/backward pass size (MB): 354.43\n",
       "Params size (MB): 44.60\n",
       "Estimated Total Size (MB): 399.05\n",
       "============================================================================================================================================"
      ]
     },
     "execution_count": 5,
     "metadata": {},
     "output_type": "execute_result"
    }
   ],
   "source": [
    "torchinfo.summary(model, \n",
    "                  input_data=[torch.randint(0,len(source_vocab),(batch_size,20)), \n",
    "                              torch.randint(1,10,(batch_size,)), \n",
    "                              torch.randint(0,len(target_vocab),(batch_size,20)),\n",
    "                              torch.randint(1,10,(batch_size,)) ],\n",
    "                  col_names=[\"input_size\", \"output_size\", \"num_params\", \"trainable\"],\n",
    "                  depth=3 )"
   ]
  },
  {
   "cell_type": "code",
   "execution_count": 6,
   "id": "da57ee5c",
   "metadata": {},
   "outputs": [
    {
     "name": "stdout",
     "output_type": "stream",
     "text": [
      "Epoch 1 | Train Loss: 3.7495 | Val Loss: 2.5479 | Best Val Loss: 2.5479\n",
      "Epoch 2 | Train Loss: 2.2423 | Val Loss: 2.0500 | Best Val Loss: 2.0500\n",
      "Epoch 3 | Train Loss: 1.7696 | Val Loss: 1.8786 | Best Val Loss: 1.8786\n",
      "Epoch 4 | Train Loss: 1.5132 | Val Loss: 1.7865 | Best Val Loss: 1.7865\n",
      "Epoch 5 | Train Loss: 1.3479 | Val Loss: 1.7603 | Best Val Loss: 1.7603\n",
      "Epoch 6 | Train Loss: 1.2318 | Val Loss: 1.7288 | Best Val Loss: 1.7288\n",
      "Epoch 7 | Train Loss: 1.1454 | Val Loss: 1.7281 | Best Val Loss: 1.7281\n",
      "Epoch 8 | Train Loss: 1.0729 | Val Loss: 1.7027 | Best Val Loss: 1.7027\n",
      "Epoch 9 | Train Loss: 1.0137 | Val Loss: 1.7090 | Best Val Loss: 1.7027\n",
      "Epoch 10 | Train Loss: 0.9637 | Val Loss: 1.7095 | Best Val Loss: 1.7027\n",
      "Epoch 11 | Train Loss: 0.9206 | Val Loss: 1.7088 | Best Val Loss: 1.7027\n",
      "Epoch 12 | Train Loss: 0.8809 | Val Loss: 1.7088 | Best Val Loss: 1.7027\n",
      "Training Complete. Total Time (s): 5491.72\n"
     ]
    }
   ],
   "source": [
    "training_history = training_seq2seq(train_loader,\n",
    "                                        val_loader,\n",
    "                                        epochs,\n",
    "                                        loss_fn,\n",
    "                                        model,\n",
    "                                        optimizer,\n",
    "                                        regularize=False)"
   ]
  },
  {
   "cell_type": "code",
   "execution_count": 7,
   "id": "a4053dc5",
   "metadata": {},
   "outputs": [
    {
     "data": {
      "text/plain": [
       "{'source': [77, 217, 44, 434], 'target': [2, 9, 1439, 19, 300, 40, 135, 3]}"
      ]
     },
     "execution_count": 7,
     "metadata": {},
     "output_type": "execute_result"
    }
   ],
   "source": [
    "test_dataset.__getitem__(0)"
   ]
  },
  {
   "cell_type": "code",
   "execution_count": 8,
   "id": "e284788f",
   "metadata": {},
   "outputs": [],
   "source": [
    "@torch.inference_mode()\n",
    "def translate(model, source_seq, source_lengths, target_vocab, max_target_len=50, device=\"cpu\"):\n",
    "    model.eval()\n",
    "\n",
    "    start_idx = target_vocab[\"[start]\"]\n",
    "    end_idx   = target_vocab[\"[end]\"]\n",
    "\n",
    "    source_seq = source_seq.to(device)\n",
    "    source_lengths = source_lengths.to(device)\n",
    "\n",
    "    # Initialize with [start]\n",
    "    generated = torch.tensor([[start_idx]], device=device)\n",
    "\n",
    "    for _ in range(max_target_len):\n",
    "        # Forward pass with current prefix\n",
    "        logits = model(source_seq, source_lengths, generated, torch.tensor([generated.size(1)], device=device))\n",
    "        \n",
    "        # Get next-token logits from last position\n",
    "        next_token = logits[:, -1, :].argmax(dim=-1)\n",
    "\n",
    "        # Append to sequence\n",
    "        generated = torch.cat([generated, next_token.unsqueeze(0)], dim=1)\n",
    "\n",
    "        if next_token.item() == end_idx:\n",
    "            break\n",
    "\n",
    "    # Drop the start token\n",
    "    return generated[0, 1:].tolist()"
   ]
  },
  {
   "cell_type": "code",
   "execution_count": 18,
   "id": "57482272",
   "metadata": {},
   "outputs": [],
   "source": [
    "def convert_token_ids(token_idxs,vocab_inv):\n",
    "    true_list = []\n",
    "    for idx in token_idxs:\n",
    "        if vocab_inv[idx] not in {\"[start]\",\"[end]\"}:\n",
    "            true_list.append(vocab_inv[idx])\n",
    "    return ' '.join(true_list)"
   ]
  },
  {
   "cell_type": "code",
   "execution_count": 19,
   "id": "6efc35ef",
   "metadata": {},
   "outputs": [],
   "source": [
    "target = translate(model, \n",
    "                   source_seq=torch.tensor(test_dataset.__getitem__(0)['source']).unsqueeze(0), \n",
    "                   source_lengths=torch.tensor(len(test_dataset.__getitem__(0)['source'])).reshape(1,1), \n",
    "                   target_vocab = target_vocab, \n",
    "                   max_target_len=max_seq_length, \n",
    "                   device=\"cpu\")"
   ]
  },
  {
   "cell_type": "code",
   "execution_count": 20,
   "id": "03cf3024",
   "metadata": {},
   "outputs": [
    {
     "name": "stdout",
     "output_type": "stream",
     "text": [
      "True Source:  ill call him tonight\n",
      "True Target:  la llamaré por teléfono esta noche\n",
      "Pred Target:  le voy a llamar esta noche\n"
     ]
    }
   ],
   "source": [
    "true_source = convert_token_ids(token_idxs=test_dataset.__getitem__(0)['source'],\n",
    "                  vocab_inv=source_inv)\n",
    "true_target = convert_token_ids(token_idxs=test_dataset.__getitem__(0)['target'],\n",
    "                  vocab_inv=target_inv)\n",
    "pred_target = convert_token_ids(token_idxs=target,\n",
    "                  vocab_inv=target_inv)\n",
    "\n",
    "print('True Source: ', true_source)\n",
    "print('True Target: ', true_target)\n",
    "print('Pred Target: ', pred_target)"
   ]
  },
  {
   "cell_type": "code",
   "execution_count": null,
   "id": "84d3107d",
   "metadata": {},
   "outputs": [],
   "source": []
  }
 ],
 "metadata": {
  "kernelspec": {
   "display_name": "base",
   "language": "python",
   "name": "python3"
  },
  "language_info": {
   "codemirror_mode": {
    "name": "ipython",
    "version": 3
   },
   "file_extension": ".py",
   "mimetype": "text/x-python",
   "name": "python",
   "nbconvert_exporter": "python",
   "pygments_lexer": "ipython3",
   "version": "3.12.7"
  }
 },
 "nbformat": 4,
 "nbformat_minor": 5
}
