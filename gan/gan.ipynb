{
 "cells": [
  {
   "cell_type": "markdown",
   "id": "d7648131",
   "metadata": {},
   "source": [
    "# Generative Adversarial Networks\n",
    "\n",
    "Began: 7 October 2025\n",
    "\n",
    "Author: Roy T. Forestano"
   ]
  },
  {
   "cell_type": "code",
   "execution_count": 2,
   "id": "9ffccf93",
   "metadata": {},
   "outputs": [
    {
     "name": "stdout",
     "output_type": "stream",
     "text": [
      "Device:  cpu\n"
     ]
    }
   ],
   "source": [
    "from utils import *"
   ]
  },
  {
   "cell_type": "code",
   "execution_count": null,
   "id": "4ad5f106",
   "metadata": {},
   "outputs": [],
   "source": []
  }
 ],
 "metadata": {
  "kernelspec": {
   "display_name": "base",
   "language": "python",
   "name": "python3"
  },
  "language_info": {
   "codemirror_mode": {
    "name": "ipython",
    "version": 3
   },
   "file_extension": ".py",
   "mimetype": "text/x-python",
   "name": "python",
   "nbconvert_exporter": "python",
   "pygments_lexer": "ipython3",
   "version": "3.12.7"
  }
 },
 "nbformat": 4,
 "nbformat_minor": 5
}
