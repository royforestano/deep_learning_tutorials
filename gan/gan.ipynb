{
 "cells": [
  {
   "cell_type": "markdown",
   "id": "d7648131",
   "metadata": {},
   "source": [
    "# Generative Adversarial Networks\n",
    "\n",
    "Began: 7 October 2025\n",
    "\n",
    "Author: Roy T. Forestano"
   ]
  },
  {
   "cell_type": "code",
   "execution_count": 2,
   "id": "9ffccf93",
   "metadata": {},
   "outputs": [
    {
     "name": "stdout",
     "output_type": "stream",
     "text": [
      "Device:  cpu\n"
     ]
    }
   ],
   "source": [
    "from utils import *"
   ]
  },
  {
   "cell_type": "markdown",
   "id": "7de0e310",
   "metadata": {},
   "source": [
    "Chapter 12: Generative Deep Learning from the book Deep Learning with Python by Francois Chollet.\n",
    "\n",
    "- 2015: Google DeepDream\n",
    "- 2016: turn photos into paintings of various styles\n",
    "- 2016: experimental Short movie, Sunspring, directed using a script from a LSTM\n",
    "\n",
    "Ai is not about replacing our own intelligence with something else, it is about bringing into our lives and work more intelligence, intelligence of a different kind. More augmented intelligence than artifiical intelligence."
   ]
  },
  {
   "cell_type": "code",
   "execution_count": null,
   "id": "4ad5f106",
   "metadata": {},
   "outputs": [],
   "source": [
    " "
   ]
  }
 ],
 "metadata": {
  "kernelspec": {
   "display_name": "base",
   "language": "python",
   "name": "python3"
  },
  "language_info": {
   "codemirror_mode": {
    "name": "ipython",
    "version": 3
   },
   "file_extension": ".py",
   "mimetype": "text/x-python",
   "name": "python",
   "nbconvert_exporter": "python",
   "pygments_lexer": "ipython3",
   "version": "3.12.7"
  }
 },
 "nbformat": 4,
 "nbformat_minor": 5
}
